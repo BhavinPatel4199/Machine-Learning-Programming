{
 "cells": [
  {
   "cell_type": "markdown",
   "id": "e2341b72",
   "metadata": {},
   "source": [
    "# AIDI 1002: Machine Learning Programming — Assignment - 1"
   ]
  },
  {
   "cell_type": "code",
   "execution_count": 1,
   "id": "8e7ad84b",
   "metadata": {},
   "outputs": [],
   "source": [
    "import pandas as pd\n",
    "import numpy as np\n",
    "import matplotlib.pyplot as plt\n",
    "import seaborn as sns\n",
    "from sklearn.impute import SimpleImputer\n",
    "from scipy.stats import shapiro, kstest\n",
    "from sklearn.preprocessing import OneHotEncoder, StandardScaler"
   ]
  },
  {
   "cell_type": "markdown",
   "id": "cdf024d5",
   "metadata": {},
   "source": [
    "## Part 01 :"
   ]
  },
  {
   "cell_type": "markdown",
   "id": "8ce09b92",
   "metadata": {},
   "source": [
    "Consider the dataset ‘noisy_data.csv’ and apply the following pre-processing techniques and obtain the clean dataset.\n",
    "\n",
    "1. Handling missing values by imputation (10 points)\n",
    "2. Apply Normality tests to numerical columns and state the hypothesis clearly and comment on the normality of the data (10 points)\n",
    "3. Apply encodings for categorical variable and scale the features (10 points)"
   ]
  },
  {
   "cell_type": "markdown",
   "id": "b90ce626",
   "metadata": {},
   "source": [
    "#### Load the dataset and display the data."
   ]
  },
  {
   "cell_type": "code",
   "execution_count": 2,
   "id": "7568c353",
   "metadata": {},
   "outputs": [
    {
     "name": "stdout",
     "output_type": "stream",
     "text": [
      "Original dataset:\n"
     ]
    },
    {
     "data": {
      "text/html": [
       "<div>\n",
       "<style scoped>\n",
       "    .dataframe tbody tr th:only-of-type {\n",
       "        vertical-align: middle;\n",
       "    }\n",
       "\n",
       "    .dataframe tbody tr th {\n",
       "        vertical-align: top;\n",
       "    }\n",
       "\n",
       "    .dataframe thead th {\n",
       "        text-align: right;\n",
       "    }\n",
       "</style>\n",
       "<table border=\"1\" class=\"dataframe\">\n",
       "  <thead>\n",
       "    <tr style=\"text-align: right;\">\n",
       "      <th></th>\n",
       "      <th>Region</th>\n",
       "      <th>Age</th>\n",
       "      <th>Income</th>\n",
       "      <th>Online Shopper</th>\n",
       "    </tr>\n",
       "  </thead>\n",
       "  <tbody>\n",
       "    <tr>\n",
       "      <th>0</th>\n",
       "      <td>India</td>\n",
       "      <td>49.0</td>\n",
       "      <td>86400.0</td>\n",
       "      <td>No</td>\n",
       "    </tr>\n",
       "    <tr>\n",
       "      <th>1</th>\n",
       "      <td>Brazil</td>\n",
       "      <td>32.0</td>\n",
       "      <td>57600.0</td>\n",
       "      <td>Yes</td>\n",
       "    </tr>\n",
       "    <tr>\n",
       "      <th>2</th>\n",
       "      <td>USA</td>\n",
       "      <td>35.0</td>\n",
       "      <td>64800.0</td>\n",
       "      <td>No</td>\n",
       "    </tr>\n",
       "    <tr>\n",
       "      <th>3</th>\n",
       "      <td>Brazil</td>\n",
       "      <td>43.0</td>\n",
       "      <td>73200.0</td>\n",
       "      <td>No</td>\n",
       "    </tr>\n",
       "    <tr>\n",
       "      <th>4</th>\n",
       "      <td>USA</td>\n",
       "      <td>45.0</td>\n",
       "      <td>NaN</td>\n",
       "      <td>Yes</td>\n",
       "    </tr>\n",
       "    <tr>\n",
       "      <th>5</th>\n",
       "      <td>India</td>\n",
       "      <td>40.0</td>\n",
       "      <td>69600.0</td>\n",
       "      <td>Yes</td>\n",
       "    </tr>\n",
       "    <tr>\n",
       "      <th>6</th>\n",
       "      <td>Brazil</td>\n",
       "      <td>NaN</td>\n",
       "      <td>62400.0</td>\n",
       "      <td>No</td>\n",
       "    </tr>\n",
       "    <tr>\n",
       "      <th>7</th>\n",
       "      <td>India</td>\n",
       "      <td>53.0</td>\n",
       "      <td>94800.0</td>\n",
       "      <td>Yes</td>\n",
       "    </tr>\n",
       "    <tr>\n",
       "      <th>8</th>\n",
       "      <td>USA</td>\n",
       "      <td>55.0</td>\n",
       "      <td>99600.0</td>\n",
       "      <td>No</td>\n",
       "    </tr>\n",
       "    <tr>\n",
       "      <th>9</th>\n",
       "      <td>India</td>\n",
       "      <td>42.0</td>\n",
       "      <td>80400.0</td>\n",
       "      <td>Yes</td>\n",
       "    </tr>\n",
       "  </tbody>\n",
       "</table>\n",
       "</div>"
      ],
      "text/plain": [
       "   Region   Age   Income Online Shopper\n",
       "0   India  49.0  86400.0             No\n",
       "1  Brazil  32.0  57600.0            Yes\n",
       "2     USA  35.0  64800.0             No\n",
       "3  Brazil  43.0  73200.0             No\n",
       "4     USA  45.0      NaN            Yes\n",
       "5   India  40.0  69600.0            Yes\n",
       "6  Brazil   NaN  62400.0             No\n",
       "7   India  53.0  94800.0            Yes\n",
       "8     USA  55.0  99600.0             No\n",
       "9   India  42.0  80400.0            Yes"
      ]
     },
     "execution_count": 2,
     "metadata": {},
     "output_type": "execute_result"
    }
   ],
   "source": [
    "noisy = pd.read_csv('noisy_data.csv')\n",
    "\n",
    "print(\"Original dataset:\")\n",
    "noisy"
   ]
  },
  {
   "cell_type": "markdown",
   "id": "8d3cd5f7",
   "metadata": {},
   "source": [
    "#### Check for missing values"
   ]
  },
  {
   "cell_type": "code",
   "execution_count": 3,
   "id": "b52cd5d1",
   "metadata": {},
   "outputs": [
    {
     "name": "stdout",
     "output_type": "stream",
     "text": [
      "\n",
      "Missing values before imputation:\n"
     ]
    },
    {
     "data": {
      "text/plain": [
       "Region            0\n",
       "Age               1\n",
       "Income            1\n",
       "Online Shopper    0\n",
       "dtype: int64"
      ]
     },
     "execution_count": 3,
     "metadata": {},
     "output_type": "execute_result"
    }
   ],
   "source": [
    "print(\"\\nMissing values before imputation:\")\n",
    "noisy.isnull().sum()"
   ]
  },
  {
   "cell_type": "markdown",
   "id": "0f512386",
   "metadata": {},
   "source": [
    "####  Assigning numerical and categorical columns separately."
   ]
  },
  {
   "cell_type": "code",
   "execution_count": 4,
   "id": "2ab64df9",
   "metadata": {},
   "outputs": [],
   "source": [
    "numerical_col = noisy.select_dtypes(include=['float64', 'int64']).columns\n",
    "categorical_col = noisy.select_dtypes(include=['object']).columns"
   ]
  },
  {
   "cell_type": "markdown",
   "id": "a5777d17",
   "metadata": {},
   "source": [
    "####  Imputing missing values for numerical columns in dataset."
   ]
  },
  {
   "cell_type": "code",
   "execution_count": 5,
   "id": "4089b5a7",
   "metadata": {},
   "outputs": [],
   "source": [
    "imputer = SimpleImputer(strategy='mean')\n",
    "noisy[numerical_col] = imputer.fit_transform(noisy[numerical_col])"
   ]
  },
  {
   "cell_type": "code",
   "execution_count": 6,
   "id": "fcb74091",
   "metadata": {},
   "outputs": [
    {
     "name": "stdout",
     "output_type": "stream",
     "text": [
      "\n",
      "Dataset after imputation:\n"
     ]
    },
    {
     "data": {
      "text/html": [
       "<div>\n",
       "<style scoped>\n",
       "    .dataframe tbody tr th:only-of-type {\n",
       "        vertical-align: middle;\n",
       "    }\n",
       "\n",
       "    .dataframe tbody tr th {\n",
       "        vertical-align: top;\n",
       "    }\n",
       "\n",
       "    .dataframe thead th {\n",
       "        text-align: right;\n",
       "    }\n",
       "</style>\n",
       "<table border=\"1\" class=\"dataframe\">\n",
       "  <thead>\n",
       "    <tr style=\"text-align: right;\">\n",
       "      <th></th>\n",
       "      <th>Region</th>\n",
       "      <th>Age</th>\n",
       "      <th>Income</th>\n",
       "      <th>Online Shopper</th>\n",
       "    </tr>\n",
       "  </thead>\n",
       "  <tbody>\n",
       "    <tr>\n",
       "      <th>0</th>\n",
       "      <td>India</td>\n",
       "      <td>49.000000</td>\n",
       "      <td>86400.000000</td>\n",
       "      <td>No</td>\n",
       "    </tr>\n",
       "    <tr>\n",
       "      <th>1</th>\n",
       "      <td>Brazil</td>\n",
       "      <td>32.000000</td>\n",
       "      <td>57600.000000</td>\n",
       "      <td>Yes</td>\n",
       "    </tr>\n",
       "    <tr>\n",
       "      <th>2</th>\n",
       "      <td>USA</td>\n",
       "      <td>35.000000</td>\n",
       "      <td>64800.000000</td>\n",
       "      <td>No</td>\n",
       "    </tr>\n",
       "    <tr>\n",
       "      <th>3</th>\n",
       "      <td>Brazil</td>\n",
       "      <td>43.000000</td>\n",
       "      <td>73200.000000</td>\n",
       "      <td>No</td>\n",
       "    </tr>\n",
       "    <tr>\n",
       "      <th>4</th>\n",
       "      <td>USA</td>\n",
       "      <td>45.000000</td>\n",
       "      <td>76533.333333</td>\n",
       "      <td>Yes</td>\n",
       "    </tr>\n",
       "    <tr>\n",
       "      <th>5</th>\n",
       "      <td>India</td>\n",
       "      <td>40.000000</td>\n",
       "      <td>69600.000000</td>\n",
       "      <td>Yes</td>\n",
       "    </tr>\n",
       "    <tr>\n",
       "      <th>6</th>\n",
       "      <td>Brazil</td>\n",
       "      <td>43.777778</td>\n",
       "      <td>62400.000000</td>\n",
       "      <td>No</td>\n",
       "    </tr>\n",
       "    <tr>\n",
       "      <th>7</th>\n",
       "      <td>India</td>\n",
       "      <td>53.000000</td>\n",
       "      <td>94800.000000</td>\n",
       "      <td>Yes</td>\n",
       "    </tr>\n",
       "    <tr>\n",
       "      <th>8</th>\n",
       "      <td>USA</td>\n",
       "      <td>55.000000</td>\n",
       "      <td>99600.000000</td>\n",
       "      <td>No</td>\n",
       "    </tr>\n",
       "    <tr>\n",
       "      <th>9</th>\n",
       "      <td>India</td>\n",
       "      <td>42.000000</td>\n",
       "      <td>80400.000000</td>\n",
       "      <td>Yes</td>\n",
       "    </tr>\n",
       "  </tbody>\n",
       "</table>\n",
       "</div>"
      ],
      "text/plain": [
       "   Region        Age        Income Online Shopper\n",
       "0   India  49.000000  86400.000000             No\n",
       "1  Brazil  32.000000  57600.000000            Yes\n",
       "2     USA  35.000000  64800.000000             No\n",
       "3  Brazil  43.000000  73200.000000             No\n",
       "4     USA  45.000000  76533.333333            Yes\n",
       "5   India  40.000000  69600.000000            Yes\n",
       "6  Brazil  43.777778  62400.000000             No\n",
       "7   India  53.000000  94800.000000            Yes\n",
       "8     USA  55.000000  99600.000000             No\n",
       "9   India  42.000000  80400.000000            Yes"
      ]
     },
     "execution_count": 6,
     "metadata": {},
     "output_type": "execute_result"
    }
   ],
   "source": [
    "print(\"\\nDataset after imputation:\")\n",
    "noisy"
   ]
  },
  {
   "cell_type": "markdown",
   "id": "f2412ce4",
   "metadata": {},
   "source": [
    "#### Performing the normality tests"
   ]
  },
  {
   "cell_type": "code",
   "execution_count": 7,
   "id": "6a6dec4c",
   "metadata": {},
   "outputs": [
    {
     "name": "stdout",
     "output_type": "stream",
     "text": [
      "Column Age:\n",
      "  Shapiro-Wilk Test Statistic: 0.9711920619010925\n",
      "  p-value: 0.9016721248626709\n",
      "  Data looks normally distributed (fail to reject H0)\n",
      "\n"
     ]
    },
    {
     "data": {
      "image/png": "[encoded data removed]",
      "text/plain": [
       "<Figure size 600x400 with 1 Axes>"
      ]
     },
     "metadata": {},
     "output_type": "display_data"
    },
    {
     "name": "stdout",
     "output_type": "stream",
     "text": [
      "Column Income:\n",
      "  Shapiro-Wilk Test Statistic: 0.9625768661499023\n",
      "  p-value: 0.8148096203804016\n",
      "  Data looks normally distributed (fail to reject H0)\n",
      "\n"
     ]
    },
    {
     "data": {
      "image/png": "[encoded data removed]",
      "text/plain": [
       "<Figure size 600x400 with 1 Axes>"
      ]
     },
     "metadata": {},
     "output_type": "display_data"
    }
   ],
   "source": [
    "for column in numerical_col:\n",
    "    stat, p = shapiro(noisy[column])\n",
    "    print(f'Column {column}:')\n",
    "    print('  Shapiro-Wilk Test Statistic:', stat)\n",
    "    print('  p-value:', p)\n",
    "    alpha = 0.05\n",
    "    if p > alpha:\n",
    "        print('  Data looks normally distributed (fail to reject H0)')\n",
    "    else:\n",
    "        print('  Data does not look normally distributed (reject H0)')\n",
    "    print()\n",
    "    \n",
    "    \n",
    "    plt.figure(figsize=(6, 4))\n",
    "    sns.histplot(noisy[column], bins=7, color='orange', edgecolor='black', kde = True)\n",
    "    plt.title(f'Histogram of {column} column')\n",
    "    plt.xlabel('Value')\n",
    "    plt.ylabel('Frequency')\n",
    "    plt.grid(True)\n",
    "    plt.show()"
   ]
  },
  {
   "cell_type": "markdown",
   "id": "cdaa5dde",
   "metadata": {},
   "source": [
    "Above we have print the test statistic, the p-value, and our conclusion based on the significance level (usually which is 0.05).\n",
    "\n",
    "Null Hypothesis (H0): The data is normally distributed.\n",
    "\n",
    "Alternative Hypothesis (H1): The data is not normally distributed.\n",
    "\n",
    "Based on the p-values obtained from the Shapiro-Wilk test, if the p-value is greater than the defined significance level \"0.05\", fail to reject the null hypothesis and conclude that the data looks normally distributed. \n",
    "\n",
    "Else the p-value is less than the significance level, than reject the null hypothesis and conclude that the data does not look normally distributed.\n"
   ]
  },
  {
   "cell_type": "markdown",
   "id": "f98b400b",
   "metadata": {},
   "source": [
    "#### Handle categorical columns using One-hot encoding"
   ]
  },
  {
   "cell_type": "code",
   "execution_count": 8,
   "id": "105d75ab",
   "metadata": {},
   "outputs": [
    {
     "data": {
      "text/html": [
       "<div>\n",
       "<style scoped>\n",
       "    .dataframe tbody tr th:only-of-type {\n",
       "        vertical-align: middle;\n",
       "    }\n",
       "\n",
       "    .dataframe tbody tr th {\n",
       "        vertical-align: top;\n",
       "    }\n",
       "\n",
       "    .dataframe thead th {\n",
       "        text-align: right;\n",
       "    }\n",
       "</style>\n",
       "<table border=\"1\" class=\"dataframe\">\n",
       "  <thead>\n",
       "    <tr style=\"text-align: right;\">\n",
       "      <th></th>\n",
       "      <th>Age</th>\n",
       "      <th>Income</th>\n",
       "      <th>Region_Brazil</th>\n",
       "      <th>Region_India</th>\n",
       "      <th>Region_USA</th>\n",
       "      <th>Online Shopper_No</th>\n",
       "      <th>Online Shopper_Yes</th>\n",
       "    </tr>\n",
       "  </thead>\n",
       "  <tbody>\n",
       "    <tr>\n",
       "      <th>0</th>\n",
       "      <td>49.000000</td>\n",
       "      <td>86400.000000</td>\n",
       "      <td>False</td>\n",
       "      <td>True</td>\n",
       "      <td>False</td>\n",
       "      <td>True</td>\n",
       "      <td>False</td>\n",
       "    </tr>\n",
       "    <tr>\n",
       "      <th>1</th>\n",
       "      <td>32.000000</td>\n",
       "      <td>57600.000000</td>\n",
       "      <td>True</td>\n",
       "      <td>False</td>\n",
       "      <td>False</td>\n",
       "      <td>False</td>\n",
       "      <td>True</td>\n",
       "    </tr>\n",
       "    <tr>\n",
       "      <th>2</th>\n",
       "      <td>35.000000</td>\n",
       "      <td>64800.000000</td>\n",
       "      <td>False</td>\n",
       "      <td>False</td>\n",
       "      <td>True</td>\n",
       "      <td>True</td>\n",
       "      <td>False</td>\n",
       "    </tr>\n",
       "    <tr>\n",
       "      <th>3</th>\n",
       "      <td>43.000000</td>\n",
       "      <td>73200.000000</td>\n",
       "      <td>True</td>\n",
       "      <td>False</td>\n",
       "      <td>False</td>\n",
       "      <td>True</td>\n",
       "      <td>False</td>\n",
       "    </tr>\n",
       "    <tr>\n",
       "      <th>4</th>\n",
       "      <td>45.000000</td>\n",
       "      <td>76533.333333</td>\n",
       "      <td>False</td>\n",
       "      <td>False</td>\n",
       "      <td>True</td>\n",
       "      <td>False</td>\n",
       "      <td>True</td>\n",
       "    </tr>\n",
       "    <tr>\n",
       "      <th>5</th>\n",
       "      <td>40.000000</td>\n",
       "      <td>69600.000000</td>\n",
       "      <td>False</td>\n",
       "      <td>True</td>\n",
       "      <td>False</td>\n",
       "      <td>False</td>\n",
       "      <td>True</td>\n",
       "    </tr>\n",
       "    <tr>\n",
       "      <th>6</th>\n",
       "      <td>43.777778</td>\n",
       "      <td>62400.000000</td>\n",
       "      <td>True</td>\n",
       "      <td>False</td>\n",
       "      <td>False</td>\n",
       "      <td>True</td>\n",
       "      <td>False</td>\n",
       "    </tr>\n",
       "    <tr>\n",
       "      <th>7</th>\n",
       "      <td>53.000000</td>\n",
       "      <td>94800.000000</td>\n",
       "      <td>False</td>\n",
       "      <td>True</td>\n",
       "      <td>False</td>\n",
       "      <td>False</td>\n",
       "      <td>True</td>\n",
       "    </tr>\n",
       "    <tr>\n",
       "      <th>8</th>\n",
       "      <td>55.000000</td>\n",
       "      <td>99600.000000</td>\n",
       "      <td>False</td>\n",
       "      <td>False</td>\n",
       "      <td>True</td>\n",
       "      <td>True</td>\n",
       "      <td>False</td>\n",
       "    </tr>\n",
       "    <tr>\n",
       "      <th>9</th>\n",
       "      <td>42.000000</td>\n",
       "      <td>80400.000000</td>\n",
       "      <td>False</td>\n",
       "      <td>True</td>\n",
       "      <td>False</td>\n",
       "      <td>False</td>\n",
       "      <td>True</td>\n",
       "    </tr>\n",
       "  </tbody>\n",
       "</table>\n",
       "</div>"
      ],
      "text/plain": [
       "         Age        Income  Region_Brazil  Region_India  Region_USA  \\\n",
       "0  49.000000  86400.000000          False          True       False   \n",
       "1  32.000000  57600.000000           True         False       False   \n",
       "2  35.000000  64800.000000          False         False        True   \n",
       "3  43.000000  73200.000000           True         False       False   \n",
       "4  45.000000  76533.333333          False         False        True   \n",
       "5  40.000000  69600.000000          False          True       False   \n",
       "6  43.777778  62400.000000           True         False       False   \n",
       "7  53.000000  94800.000000          False          True       False   \n",
       "8  55.000000  99600.000000          False         False        True   \n",
       "9  42.000000  80400.000000          False          True       False   \n",
       "\n",
       "   Online Shopper_No  Online Shopper_Yes  \n",
       "0               True               False  \n",
       "1              False                True  \n",
       "2               True               False  \n",
       "3               True               False  \n",
       "4              False                True  \n",
       "5              False                True  \n",
       "6               True               False  \n",
       "7              False                True  \n",
       "8               True               False  \n",
       "9              False                True  "
      ]
     },
     "execution_count": 8,
     "metadata": {},
     "output_type": "execute_result"
    }
   ],
   "source": [
    "encoded_noisy_data = pd.get_dummies(noisy, columns=categorical_col)\n",
    "encoded_noisy_data"
   ]
  },
  {
   "cell_type": "markdown",
   "id": "df5d7e88",
   "metadata": {},
   "source": [
    "#### Scale the features using StandardScaler"
   ]
  },
  {
   "cell_type": "code",
   "execution_count": 9,
   "id": "1cb59df2",
   "metadata": {},
   "outputs": [
    {
     "data": {
      "text/plain": [
       "array([[ 0.75887436,  0.74947325, -0.65465367,  1.22474487, -0.65465367,\n",
       "         1.        , -1.        ],\n",
       "       [-1.71150388, -1.43817841,  1.52752523, -0.81649658, -0.65465367,\n",
       "        -1.        ,  1.        ],\n",
       "       [-1.27555478, -0.89126549, -0.65465367, -0.81649658,  1.52752523,\n",
       "         1.        , -1.        ],\n",
       "       [-0.11302384, -0.25320042,  1.52752523, -0.81649658, -0.65465367,\n",
       "         1.        , -1.        ],\n",
       "       [ 0.17760889,  0.        , -0.65465367, -0.81649658,  1.52752523,\n",
       "        -1.        ,  1.        ],\n",
       "       [-0.54897294, -0.52665688, -0.65465367,  1.22474487, -0.65465367,\n",
       "        -1.        ,  1.        ],\n",
       "       [ 0.        , -1.0735698 ,  1.52752523, -0.81649658, -0.65465367,\n",
       "         1.        , -1.        ],\n",
       "       [ 1.34013983,  1.38753832, -0.65465367,  1.22474487, -0.65465367,\n",
       "        -1.        ,  1.        ],\n",
       "       [ 1.63077256,  1.75214693, -0.65465367, -0.81649658,  1.52752523,\n",
       "         1.        , -1.        ],\n",
       "       [-0.25834021,  0.29371249, -0.65465367,  1.22474487, -0.65465367,\n",
       "        -1.        ,  1.        ]])"
      ]
     },
     "execution_count": 9,
     "metadata": {},
     "output_type": "execute_result"
    }
   ],
   "source": [
    "scaler = StandardScaler()\n",
    "scaled_data = scaler.fit_transform(encoded_noisy_data)\n",
    "scaled_data"
   ]
  },
  {
   "cell_type": "markdown",
   "id": "1e469e2b",
   "metadata": {},
   "source": [
    "#### Convert scaled data back to DataFrame"
   ]
  },
  {
   "cell_type": "code",
   "execution_count": 10,
   "id": "d809f152",
   "metadata": {},
   "outputs": [
    {
     "data": {
      "text/html": [
       "<div>\n",
       "<style scoped>\n",
       "    .dataframe tbody tr th:only-of-type {\n",
       "        vertical-align: middle;\n",
       "    }\n",
       "\n",
       "    .dataframe tbody tr th {\n",
       "        vertical-align: top;\n",
       "    }\n",
       "\n",
       "    .dataframe thead th {\n",
       "        text-align: right;\n",
       "    }\n",
       "</style>\n",
       "<table border=\"1\" class=\"dataframe\">\n",
       "  <thead>\n",
       "    <tr style=\"text-align: right;\">\n",
       "      <th></th>\n",
       "      <th>Age</th>\n",
       "      <th>Income</th>\n",
       "      <th>Region_Brazil</th>\n",
       "      <th>Region_India</th>\n",
       "      <th>Region_USA</th>\n",
       "      <th>Online Shopper_No</th>\n",
       "      <th>Online Shopper_Yes</th>\n",
       "    </tr>\n",
       "  </thead>\n",
       "  <tbody>\n",
       "    <tr>\n",
       "      <th>0</th>\n",
       "      <td>0.758874</td>\n",
       "      <td>0.749473</td>\n",
       "      <td>-0.654654</td>\n",
       "      <td>1.224745</td>\n",
       "      <td>-0.654654</td>\n",
       "      <td>1.0</td>\n",
       "      <td>-1.0</td>\n",
       "    </tr>\n",
       "    <tr>\n",
       "      <th>1</th>\n",
       "      <td>-1.711504</td>\n",
       "      <td>-1.438178</td>\n",
       "      <td>1.527525</td>\n",
       "      <td>-0.816497</td>\n",
       "      <td>-0.654654</td>\n",
       "      <td>-1.0</td>\n",
       "      <td>1.0</td>\n",
       "    </tr>\n",
       "    <tr>\n",
       "      <th>2</th>\n",
       "      <td>-1.275555</td>\n",
       "      <td>-0.891265</td>\n",
       "      <td>-0.654654</td>\n",
       "      <td>-0.816497</td>\n",
       "      <td>1.527525</td>\n",
       "      <td>1.0</td>\n",
       "      <td>-1.0</td>\n",
       "    </tr>\n",
       "    <tr>\n",
       "      <th>3</th>\n",
       "      <td>-0.113024</td>\n",
       "      <td>-0.253200</td>\n",
       "      <td>1.527525</td>\n",
       "      <td>-0.816497</td>\n",
       "      <td>-0.654654</td>\n",
       "      <td>1.0</td>\n",
       "      <td>-1.0</td>\n",
       "    </tr>\n",
       "    <tr>\n",
       "      <th>4</th>\n",
       "      <td>0.177609</td>\n",
       "      <td>0.000000</td>\n",
       "      <td>-0.654654</td>\n",
       "      <td>-0.816497</td>\n",
       "      <td>1.527525</td>\n",
       "      <td>-1.0</td>\n",
       "      <td>1.0</td>\n",
       "    </tr>\n",
       "    <tr>\n",
       "      <th>5</th>\n",
       "      <td>-0.548973</td>\n",
       "      <td>-0.526657</td>\n",
       "      <td>-0.654654</td>\n",
       "      <td>1.224745</td>\n",
       "      <td>-0.654654</td>\n",
       "      <td>-1.0</td>\n",
       "      <td>1.0</td>\n",
       "    </tr>\n",
       "    <tr>\n",
       "      <th>6</th>\n",
       "      <td>0.000000</td>\n",
       "      <td>-1.073570</td>\n",
       "      <td>1.527525</td>\n",
       "      <td>-0.816497</td>\n",
       "      <td>-0.654654</td>\n",
       "      <td>1.0</td>\n",
       "      <td>-1.0</td>\n",
       "    </tr>\n",
       "    <tr>\n",
       "      <th>7</th>\n",
       "      <td>1.340140</td>\n",
       "      <td>1.387538</td>\n",
       "      <td>-0.654654</td>\n",
       "      <td>1.224745</td>\n",
       "      <td>-0.654654</td>\n",
       "      <td>-1.0</td>\n",
       "      <td>1.0</td>\n",
       "    </tr>\n",
       "    <tr>\n",
       "      <th>8</th>\n",
       "      <td>1.630773</td>\n",
       "      <td>1.752147</td>\n",
       "      <td>-0.654654</td>\n",
       "      <td>-0.816497</td>\n",
       "      <td>1.527525</td>\n",
       "      <td>1.0</td>\n",
       "      <td>-1.0</td>\n",
       "    </tr>\n",
       "    <tr>\n",
       "      <th>9</th>\n",
       "      <td>-0.258340</td>\n",
       "      <td>0.293712</td>\n",
       "      <td>-0.654654</td>\n",
       "      <td>1.224745</td>\n",
       "      <td>-0.654654</td>\n",
       "      <td>-1.0</td>\n",
       "      <td>1.0</td>\n",
       "    </tr>\n",
       "  </tbody>\n",
       "</table>\n",
       "</div>"
      ],
      "text/plain": [
       "        Age    Income  Region_Brazil  Region_India  Region_USA  \\\n",
       "0  0.758874  0.749473      -0.654654      1.224745   -0.654654   \n",
       "1 -1.711504 -1.438178       1.527525     -0.816497   -0.654654   \n",
       "2 -1.275555 -0.891265      -0.654654     -0.816497    1.527525   \n",
       "3 -0.113024 -0.253200       1.527525     -0.816497   -0.654654   \n",
       "4  0.177609  0.000000      -0.654654     -0.816497    1.527525   \n",
       "5 -0.548973 -0.526657      -0.654654      1.224745   -0.654654   \n",
       "6  0.000000 -1.073570       1.527525     -0.816497   -0.654654   \n",
       "7  1.340140  1.387538      -0.654654      1.224745   -0.654654   \n",
       "8  1.630773  1.752147      -0.654654     -0.816497    1.527525   \n",
       "9 -0.258340  0.293712      -0.654654      1.224745   -0.654654   \n",
       "\n",
       "   Online Shopper_No  Online Shopper_Yes  \n",
       "0                1.0                -1.0  \n",
       "1               -1.0                 1.0  \n",
       "2                1.0                -1.0  \n",
       "3                1.0                -1.0  \n",
       "4               -1.0                 1.0  \n",
       "5               -1.0                 1.0  \n",
       "6                1.0                -1.0  \n",
       "7               -1.0                 1.0  \n",
       "8                1.0                -1.0  \n",
       "9               -1.0                 1.0  "
      ]
     },
     "execution_count": 10,
     "metadata": {},
     "output_type": "execute_result"
    }
   ],
   "source": [
    "scaled_noisy = pd.DataFrame(scaled_data, columns=encoded_noisy_data.columns)\n",
    "scaled_noisy"
   ]
  },
  {
   "cell_type": "markdown",
   "id": "70a94c65-f205-483f-b540-d4aa97a36ee2",
   "metadata": {},
   "source": [
    "# "
   ]
  },
  {
   "cell_type": "markdown",
   "id": "f9a49ecf",
   "metadata": {},
   "source": [
    "## Part 02 :"
   ]
  },
  {
   "cell_type": "markdown",
   "id": "aa93f433",
   "metadata": {},
   "source": [
    "Consider the text present in the file ‘wiki.txt’ and Answer the following questions :\n",
    "\n",
    "1. Write a program to convert following text into tokens with two tokenization methods such as ‘RegexpTokenizer()’ and ‘word_tokenize()’ from NLTK library. (Note :The tokens should not have stop words and punctuation symbols. Feel free to decide about the correct list of stop words; e.g., negative words (don’t) could be important for you. Execute both methods of tokenization along with your code of removing stop words and punctuation.) (10 points)\n",
    "2. Write a regular expression to extract all the year mentions in the ‘wiki.txt’ file. (10 points)\n",
    "3. State the differences observed in the output of tokenization methods. (10 points)"
   ]
  },
  {
   "cell_type": "code",
   "execution_count": 11,
   "id": "cb12701b",
   "metadata": {},
   "outputs": [],
   "source": [
    "import re\n",
    "import nltk\n",
    "from nltk.tokenize import RegexpTokenizer, word_tokenize\n",
    "from nltk.corpus import stopwords\n",
    "import string"
   ]
  },
  {
   "cell_type": "markdown",
   "id": "746695b3",
   "metadata": {},
   "source": [
    "#### Download NLTK resources (\"punkt\" and \"stopwords\")"
   ]
  },
  {
   "cell_type": "code",
   "execution_count": 12,
   "id": "a683c93a",
   "metadata": {},
   "outputs": [
    {
     "name": "stderr",
     "output_type": "stream",
     "text": [
      "[nltk_data] Downloading package punkt to\n",
      "[nltk_data]     /Users/bhavinpatel/nltk_data...\n",
      "[nltk_data]   Package punkt is already up-to-date!\n",
      "[nltk_data] Downloading package stopwords to\n",
      "[nltk_data]     /Users/bhavinpatel/nltk_data...\n",
      "[nltk_data]   Package stopwords is already up-to-date!\n"
     ]
    },
    {
     "data": {
      "text/plain": [
       "True"
      ]
     },
     "execution_count": 12,
     "metadata": {},
     "output_type": "execute_result"
    }
   ],
   "source": [
    "nltk.download('punkt')\n",
    "nltk.download('stopwords')"
   ]
  },
  {
   "cell_type": "markdown",
   "id": "ff31b39e",
   "metadata": {},
   "source": [
    "#### Read the text content from the file"
   ]
  },
  {
   "cell_type": "code",
   "execution_count": 13,
   "id": "a990f694",
   "metadata": {},
   "outputs": [
    {
     "name": "stdout",
     "output_type": "stream",
     "text": [
      "The history of NLP generally started in the 1950s, although work can be found from earlier periods. In 1950, Alan Turing published an article titled \"Computing Machinery and Intelligence\" which proposed what is now called the Turing test as a criterion of intelligence.\n",
      "\n",
      "The Georgetown experiment in 1954 involved fully automatic translation of more than sixty Russian sentences into English. The authors claimed that within three or five years, machine translation would be a solved problem.[2] However, real progress was much slower, and after the ALPAC report in 1966, which found that ten-year-long research had failed to fulfill the expectations, funding for machine translation was dramatically reduced. Little further research in machine translation was conducted until the late 1980s, when the first statistical machine translation systems were developed.\n",
      "\n",
      "Some notably successful NLP systems developed in the 1960s were SHRDLU, a natural-language system working in restricted \"blocks worlds\" with restricted vocabularies, and ELIZA, a simulation of a Rogerian psychotherapist, written by Joseph Weizenbaum between 1964 and 1966. Using almost no information about human thought or emotion, ELIZA sometimes provided a startlingly human-like interaction. When the \"patient\" exceeded the very small knowledge base, ELIZA might provide a generic response, for example, responding to \"My head hurts\" with \"Why do you say your head hurts?\".\n"
     ]
    }
   ],
   "source": [
    "with open('wiki.txt', 'r') as file:\n",
    "    wiki = file.read()\n",
    "    print(wiki)"
   ]
  },
  {
   "cell_type": "markdown",
   "id": "99294fc7",
   "metadata": {},
   "source": [
    "#### For removing the stop words, and punctuation_symbols"
   ]
  },
  {
   "cell_type": "code",
   "execution_count": 14,
   "id": "a1131239",
   "metadata": {},
   "outputs": [
    {
     "name": "stdout",
     "output_type": "stream",
     "text": [
      "{'.', '\"', '}', ':', '-', ';', '?', \"'\", '{', '!', \"''\", '``', '\\\\', '_', '(', '[', ',', ')', ']', '`', '/'} \n",
      "\n",
      "{\"didn't\", 'yourselves', 'at', 'so', 'my', 'out', 'does', 'all', 'haven', 'just', 'these', 'how', 're', 'off', 'above', 'he', 'while', 'both', 'wasn', 'down', 'itself', 'into', 'd', 'with', 'm', 'don', 'on', 'each', 'having', 'shan', 'needn', 'by', 'had', 'be', 'you', \"won't\", 'couldn', \"shan't\", 'its', 'most', 'was', 'the', 'didn', 'shouldn', 'as', 's', \"you'll\", 'those', 'before', 'if', 'any', 'y', 'no', 'this', 'about', 'of', \"should've\", 'mustn', \"hasn't\", 'further', 'isn', 'why', 'their', 'do', 'can', 'did', 'herself', \"needn't\", 'i', 'because', 'me', 'it', 'very', \"wasn't\", 'ourselves', 'once', 'were', 'to', 't', 'ain', \"hadn't\", 'through', 'there', 'him', \"that'll\", 'yours', 'below', 'an', 'not', 'will', 'your', \"it's\", 'who', 'here', 'a', 'some', 'doing', 'wouldn', 'then', \"you'd\", 'hasn', 'when', 'am', 'but', 'theirs', 'hadn', 'now', 'between', 'more', \"shouldn't\", 'that', \"isn't\", 'them', 'ours', 'under', 'nor', \"mightn't\", 'she', 'weren', 'until', 've', \"weren't\", 'doesn', 'which', 'being', \"wouldn't\", 'll', 'myself', 'o', 'only', 'we', 'they', 'has', 'aren', 'few', \"mustn't\", \"couldn't\", 'are', 'been', 'than', 'ma', 'his', 'and', 'during', \"haven't\", \"you've\", \"aren't\", 'our', 'other', 'from', 'hers', 'own', 'too', 'himself', 'or', 'after', 'in', 'should', 'whom', 'her', 'up', \"you're\", \"don't\", 'again', 'against', \"doesn't\", 'where', 'yourself', 'such', \"she's\", 'themselves', 'is', 'over', 'for', 'won', 'mightn', 'same', 'have', 'what'}\n"
     ]
    }
   ],
   "source": [
    "stop_words = set(stopwords.words('english'))\n",
    "\n",
    "#punctuation_symbols = set(string.punctuation)\n",
    "punctuation_symbols = {'.', ',', ';', ':', '?', '!', '-', '_', '(', ')', '[', ']', '{', '}', '/', '\\\\', '\"', \"'\", \"`\",\"''\", '``'}\n",
    "print(punctuation_symbols, '\\n')\n",
    "print(stop_words)"
   ]
  },
  {
   "cell_type": "markdown",
   "id": "6662bbef",
   "metadata": {},
   "source": [
    "#### Tokenization the content using RegexpTokenizer"
   ]
  },
  {
   "cell_type": "code",
   "execution_count": 15,
   "id": "3585a27d",
   "metadata": {},
   "outputs": [
    {
     "name": "stdout",
     "output_type": "stream",
     "text": [
      "['The', 'history', 'of', 'NLP', 'generally', 'started', 'in', 'the', '1950s', 'although', 'work', 'can', 'be', 'found', 'from', 'earlier', 'periods', 'In', '1950', 'Alan', 'Turing', 'published', 'an', 'article', 'titled', 'Computing', 'Machinery', 'and', 'Intelligence', 'which', 'proposed', 'what', 'is', 'now', 'called', 'the', 'Turing', 'test', 'as', 'a', 'criterion', 'of', 'intelligence', 'The', 'Georgetown', 'experiment', 'in', '1954', 'involved', 'fully', 'automatic', 'translation', 'of', 'more', 'than', 'sixty', 'Russian', 'sentences', 'into', 'English', 'The', 'authors', 'claimed', 'that', 'within', 'three', 'or', 'five', 'years', 'machine', 'translation', 'would', 'be', 'a', 'solved', 'problem', '2', 'However', 'real', 'progress', 'was', 'much', 'slower', 'and', 'after', 'the', 'ALPAC', 'report', 'in', '1966', 'which', 'found', 'that', 'ten', 'year', 'long', 'research', 'had', 'failed', 'to', 'fulfill', 'the', 'expectations', 'funding', 'for', 'machine', 'translation', 'was', 'dramatically', 'reduced', 'Little', 'further', 'research', 'in', 'machine', 'translation', 'was', 'conducted', 'until', 'the', 'late', '1980s', 'when', 'the', 'first', 'statistical', 'machine', 'translation', 'systems', 'were', 'developed', 'Some', 'notably', 'successful', 'NLP', 'systems', 'developed', 'in', 'the', '1960s', 'were', 'SHRDLU', 'a', 'natural', 'language', 'system', 'working', 'in', 'restricted', 'blocks', 'worlds', 'with', 'restricted', 'vocabularies', 'and', 'ELIZA', 'a', 'simulation', 'of', 'a', 'Rogerian', 'psychotherapist', 'written', 'by', 'Joseph', 'Weizenbaum', 'between', '1964', 'and', '1966', 'Using', 'almost', 'no', 'information', 'about', 'human', 'thought', 'or', 'emotion', 'ELIZA', 'sometimes', 'provided', 'a', 'startlingly', 'human', 'like', 'interaction', 'When', 'the', 'patient', 'exceeded', 'the', 'very', 'small', 'knowledge', 'base', 'ELIZA', 'might', 'provide', 'a', 'generic', 'response', 'for', 'example', 'responding', 'to', 'My', 'head', 'hurts', 'with', 'Why', 'do', 'you', 'say', 'your', 'head', 'hurts']\n"
     ]
    }
   ],
   "source": [
    "ret_tokenizer = RegexpTokenizer(r'\\w+')\n",
    "regexp_tokens = ret_tokenizer.tokenize(wiki)\n",
    "print(regexp_tokens)"
   ]
  },
  {
   "cell_type": "code",
   "execution_count": 16,
   "id": "12610b69",
   "metadata": {},
   "outputs": [
    {
     "name": "stdout",
     "output_type": "stream",
     "text": [
      "Tokens after applying RegexpTokenizer and removing stop words & punctuation symbols: \n",
      "\n",
      "['history', 'NLP', 'generally', 'started', '1950s', 'although', 'work', 'found', 'earlier', 'periods', '1950', 'Alan', 'Turing', 'published', 'article', 'titled', 'Computing', 'Machinery', 'Intelligence', 'proposed', 'called', 'Turing', 'test', 'criterion', 'intelligence', 'Georgetown', 'experiment', '1954', 'involved', 'fully', 'automatic', 'translation', 'sixty', 'Russian', 'sentences', 'English', 'authors', 'claimed', 'within', 'three', 'five', 'years', 'machine', 'translation', 'would', 'solved', 'problem', '2', 'However', 'real', 'progress', 'much', 'slower', 'ALPAC', 'report', '1966', 'found', 'ten', 'year', 'long', 'research', 'failed', 'fulfill', 'expectations', 'funding', 'machine', 'translation', 'dramatically', 'reduced', 'Little', 'research', 'machine', 'translation', 'conducted', 'late', '1980s', 'first', 'statistical', 'machine', 'translation', 'systems', 'developed', 'notably', 'successful', 'NLP', 'systems', 'developed', '1960s', 'SHRDLU', 'natural', 'language', 'system', 'working', 'restricted', 'blocks', 'worlds', 'restricted', 'vocabularies', 'ELIZA', 'simulation', 'Rogerian', 'psychotherapist', 'written', 'Joseph', 'Weizenbaum', '1964', '1966', 'Using', 'almost', 'information', 'human', 'thought', 'emotion', 'ELIZA', 'sometimes', 'provided', 'startlingly', 'human', 'like', 'interaction', 'patient', 'exceeded', 'small', 'knowledge', 'base', 'ELIZA', 'might', 'provide', 'generic', 'response', 'example', 'responding', 'head', 'hurts', 'say', 'head', 'hurts']\n"
     ]
    }
   ],
   "source": [
    "filtered_tokens_regexp = [token for token in regexp_tokens if token.lower() not in stop_words]\n",
    "\n",
    "print(\"Tokens after applying RegexpTokenizer and removing stop words & punctuation symbols:\", '\\n')\n",
    "print(filtered_tokens_regexp)"
   ]
  },
  {
   "cell_type": "markdown",
   "id": "abb13704",
   "metadata": {},
   "source": [
    "####  Tokenization using word_tokenize"
   ]
  },
  {
   "cell_type": "code",
   "execution_count": 17,
   "id": "1db1fbd9",
   "metadata": {},
   "outputs": [
    {
     "name": "stdout",
     "output_type": "stream",
     "text": [
      "['The', 'history', 'of', 'NLP', 'generally', 'started', 'in', 'the', '1950s', ',', 'although', 'work', 'can', 'be', 'found', 'from', 'earlier', 'periods', '.', 'In', '1950', ',', 'Alan', 'Turing', 'published', 'an', 'article', 'titled', '``', 'Computing', 'Machinery', 'and', 'Intelligence', \"''\", 'which', 'proposed', 'what', 'is', 'now', 'called', 'the', 'Turing', 'test', 'as', 'a', 'criterion', 'of', 'intelligence', '.', 'The', 'Georgetown', 'experiment', 'in', '1954', 'involved', 'fully', 'automatic', 'translation', 'of', 'more', 'than', 'sixty', 'Russian', 'sentences', 'into', 'English', '.', 'The', 'authors', 'claimed', 'that', 'within', 'three', 'or', 'five', 'years', ',', 'machine', 'translation', 'would', 'be', 'a', 'solved', 'problem', '.', '[', '2', ']', 'However', ',', 'real', 'progress', 'was', 'much', 'slower', ',', 'and', 'after', 'the', 'ALPAC', 'report', 'in', '1966', ',', 'which', 'found', 'that', 'ten-year-long', 'research', 'had', 'failed', 'to', 'fulfill', 'the', 'expectations', ',', 'funding', 'for', 'machine', 'translation', 'was', 'dramatically', 'reduced', '.', 'Little', 'further', 'research', 'in', 'machine', 'translation', 'was', 'conducted', 'until', 'the', 'late', '1980s', ',', 'when', 'the', 'first', 'statistical', 'machine', 'translation', 'systems', 'were', 'developed', '.', 'Some', 'notably', 'successful', 'NLP', 'systems', 'developed', 'in', 'the', '1960s', 'were', 'SHRDLU', ',', 'a', 'natural-language', 'system', 'working', 'in', 'restricted', '``', 'blocks', 'worlds', \"''\", 'with', 'restricted', 'vocabularies', ',', 'and', 'ELIZA', ',', 'a', 'simulation', 'of', 'a', 'Rogerian', 'psychotherapist', ',', 'written', 'by', 'Joseph', 'Weizenbaum', 'between', '1964', 'and', '1966', '.', 'Using', 'almost', 'no', 'information', 'about', 'human', 'thought', 'or', 'emotion', ',', 'ELIZA', 'sometimes', 'provided', 'a', 'startlingly', 'human-like', 'interaction', '.', 'When', 'the', '``', 'patient', \"''\", 'exceeded', 'the', 'very', 'small', 'knowledge', 'base', ',', 'ELIZA', 'might', 'provide', 'a', 'generic', 'response', ',', 'for', 'example', ',', 'responding', 'to', '``', 'My', 'head', 'hurts', \"''\", 'with', '``', 'Why', 'do', 'you', 'say', 'your', 'head', 'hurts', '?', '``', '.']\n"
     ]
    }
   ],
   "source": [
    "word_tokenizer = word_tokenize(wiki)\n",
    "\n",
    "print(word_tokenizer)"
   ]
  },
  {
   "cell_type": "code",
   "execution_count": 18,
   "id": "981d6d14",
   "metadata": {},
   "outputs": [
    {
     "name": "stdout",
     "output_type": "stream",
     "text": [
      "\n",
      "Tokens after applying word_tokenize, removing stop and words punctuation symbols for text: \n",
      "\n",
      "['history', 'NLP', 'generally', 'started', '1950s', 'although', 'work', 'found', 'earlier', 'periods', '1950', 'Alan', 'Turing', 'published', 'article', 'titled', 'Computing', 'Machinery', 'Intelligence', 'proposed', 'called', 'Turing', 'test', 'criterion', 'intelligence', 'Georgetown', 'experiment', '1954', 'involved', 'fully', 'automatic', 'translation', 'sixty', 'Russian', 'sentences', 'English', 'authors', 'claimed', 'within', 'three', 'five', 'years', 'machine', 'translation', 'would', 'solved', 'problem', '2', 'However', 'real', 'progress', 'much', 'slower', 'ALPAC', 'report', '1966', 'found', 'ten-year-long', 'research', 'failed', 'fulfill', 'expectations', 'funding', 'machine', 'translation', 'dramatically', 'reduced', 'Little', 'research', 'machine', 'translation', 'conducted', 'late', '1980s', 'first', 'statistical', 'machine', 'translation', 'systems', 'developed', 'notably', 'successful', 'NLP', 'systems', 'developed', '1960s', 'SHRDLU', 'natural-language', 'system', 'working', 'restricted', 'blocks', 'worlds', 'restricted', 'vocabularies', 'ELIZA', 'simulation', 'Rogerian', 'psychotherapist', 'written', 'Joseph', 'Weizenbaum', '1964', '1966', 'Using', 'almost', 'information', 'human', 'thought', 'emotion', 'ELIZA', 'sometimes', 'provided', 'startlingly', 'human-like', 'interaction', 'patient', 'exceeded', 'small', 'knowledge', 'base', 'ELIZA', 'might', 'provide', 'generic', 'response', 'example', 'responding', 'head', 'hurts', 'say', 'head', 'hurts']\n"
     ]
    }
   ],
   "source": [
    "filtered_word_tokens = [token for token in word_tokenizer if token.lower() not in stop_words \n",
    "                        and token not in punctuation_symbols]\n",
    "\n",
    "print(\"\\nTokens after applying word_tokenize, removing stop and words punctuation symbols for text:\", '\\n')\n",
    "print(filtered_word_tokens)"
   ]
  },
  {
   "cell_type": "markdown",
   "id": "b2346940",
   "metadata": {},
   "source": [
    "While tokenizing the text using word_tokenize method observed that it punctuations are treated as words so we need to remove all of them maually.\n",
    "\n",
    "while in RegexpTokenizer method there is no need to remove the tokens sperately."
   ]
  },
  {
   "cell_type": "markdown",
   "id": "f7a3bbab",
   "metadata": {},
   "source": [
    "#### Regular expression pattern to extract all the year mentions text document "
   ]
  },
  {
   "cell_type": "code",
   "execution_count": 19,
   "id": "13c90abd",
   "metadata": {},
   "outputs": [
    {
     "name": "stdout",
     "output_type": "stream",
     "text": [
      "Years mentioned in the text:\n",
      "{'1950s', '1966', '1954', '1960s', '1980s', '1950', '1964'}\n"
     ]
    }
   ],
   "source": [
    "pattern = r'\\b\\d{4}s?\\b'\n",
    "\n",
    "years = set(re.findall(pattern, wiki))\n",
    "\n",
    "\n",
    "print(\"Years mentioned in the text:\")\n",
    "print(years)\n"
   ]
  },
  {
   "cell_type": "markdown",
   "id": "369fc4ea",
   "metadata": {},
   "source": [
    "1. Handling of Punctuation:\n",
    "\n",
    "As i mention above that, \n",
    "\n",
    "word_tokenize(): Punctuation symbols are treated as separate tokens by default, just like words, and they are included in the output tokens.\n",
    "\n",
    "RegexpTokenizer(): Typically, punctuation symbols are treated as separate tokens, so they are not included in the output tokens.\n",
    "\n",
    "2. Flexibility:\n",
    "\n",
    "RegexpTokenizer(): Provides more flexibility than \"word_tokenize()\" in defining tokenization patterns using regular expressions. You can specify complex patterns to tokenize the text according to specific requirements.\n",
    "\n",
    "Where, word_tokenize(): Provides a simple interface for tokenization without the need to define custom patterns. It uses a pre-trained tokenizer that handles common tokenization scenarios effectively.\n",
    "\n",
    "3. Stop Words Handling:\n",
    "\n",
    "Both tokenization approaches can be coupled with stop word removal, although the specific implementation may differ. In the given example, we intentionally need to eliminated stop words after tokenization.\n",
    "\n",
    "Stop words removal is an important preprocessing step in many NLP projects since it eliminates frequently recurring words that have no significant meaningful value. The presence or absence of stop words in output tokens might influence downstream tasks such as text classification, sentiment analysis, and so on.\n",
    "\n",
    "4. Output Format:\n",
    "\n",
    "RegexpTokenizer() returns tokens based on the patterns supplied in the regular expression used for tokenization.\n",
    "\n",
    "Word_tokenize() returns tokens based on the default tokenization rules used in NLTK, which use whitespace and punctuation symbols as token separators."
   ]
  },
  {
   "cell_type": "markdown",
   "id": "b8b725cf-72a5-4491-ae52-291e078fc0ac",
   "metadata": {},
   "source": [
    "----------------------------------------------------------------------------------------------------------------------------"
   ]
  },
  {
   "cell_type": "markdown",
   "id": "775bc3de-89c1-429f-aa29-bf6bb50ab3dc",
   "metadata": {},
   "source": [
    "# "
   ]
  },
  {
   "cell_type": "markdown",
   "id": "f5e49642",
   "metadata": {},
   "source": [
    "## Part 03 :"
   ]
  },
  {
   "cell_type": "markdown",
   "id": "5576c892",
   "metadata": {},
   "source": [
    "Consider this dataset from kaggle. (Download the dataset from following link : https://www.kaggle.com/dansbecker/melbourne-housing-snapshot/home) and answer the following questions :\n",
    "\n",
    "1. Apply the feature selection techniques over the melbourne-housing -dataset namely (20 points):\n",
    "\n",
    "∗ Correlation\n",
    "\n",
    "∗ Chi-Square\n",
    "\n",
    "∗ Mutual-Information\n",
    "\n",
    "∗ Random Forest feature importance\n",
    "\n",
    "2. Compare the importance of selected features using bar chart (10 points).\n",
    "3.  Comment on the results obtained from various feature selection techniques and which is the best and worst feature selection selection technique on the given dataset (10 points)."
   ]
  },
  {
   "cell_type": "code",
   "execution_count": 20,
   "id": "87d98c7c-ed97-49f5-bd28-31b1d386df58",
   "metadata": {
    "tags": []
   },
   "outputs": [],
   "source": [
    "import warnings\n",
    "warnings.filterwarnings('ignore')"
   ]
  },
  {
   "cell_type": "code",
   "execution_count": 21,
   "id": "fcf2668d-5342-4692-8e76-36ff86a5baf6",
   "metadata": {
    "tags": []
   },
   "outputs": [],
   "source": [
    "from sklearn.feature_selection import SelectKBest, chi2, mutual_info_classif\n",
    "from sklearn.ensemble import RandomForestRegressor\n",
    "from sklearn.feature_selection import SelectFromModel\n",
    "from sklearn.model_selection import train_test_split\n",
    "from sklearn.preprocessing import LabelEncoder\n",
    "from sklearn.preprocessing import MinMaxScaler"
   ]
  },
  {
   "cell_type": "markdown",
   "id": "df9c95f4-243f-47b8-892a-eec1fbfd37ae",
   "metadata": {},
   "source": [
    "#### Load the dataset displaying the first fev rows."
   ]
  },
  {
   "cell_type": "code",
   "execution_count": 22,
   "id": "bd5ccd90-76e9-4dec-b853-0d27e946d3a3",
   "metadata": {
    "tags": []
   },
   "outputs": [
    {
     "data": {
      "text/html": [
       "<div>\n",
       "<style scoped>\n",
       "    .dataframe tbody tr th:only-of-type {\n",
       "        vertical-align: middle;\n",
       "    }\n",
       "\n",
       "    .dataframe tbody tr th {\n",
       "        vertical-align: top;\n",
       "    }\n",
       "\n",
       "    .dataframe thead th {\n",
       "        text-align: right;\n",
       "    }\n",
       "</style>\n",
       "<table border=\"1\" class=\"dataframe\">\n",
       "  <thead>\n",
       "    <tr style=\"text-align: right;\">\n",
       "      <th></th>\n",
       "      <th>Suburb</th>\n",
       "      <th>Address</th>\n",
       "      <th>Rooms</th>\n",
       "      <th>Type</th>\n",
       "      <th>Price</th>\n",
       "      <th>Method</th>\n",
       "      <th>SellerG</th>\n",
       "      <th>Date</th>\n",
       "      <th>Distance</th>\n",
       "      <th>Postcode</th>\n",
       "      <th>...</th>\n",
       "      <th>Bathroom</th>\n",
       "      <th>Car</th>\n",
       "      <th>Landsize</th>\n",
       "      <th>BuildingArea</th>\n",
       "      <th>YearBuilt</th>\n",
       "      <th>CouncilArea</th>\n",
       "      <th>Lattitude</th>\n",
       "      <th>Longtitude</th>\n",
       "      <th>Regionname</th>\n",
       "      <th>Propertycount</th>\n",
       "    </tr>\n",
       "  </thead>\n",
       "  <tbody>\n",
       "    <tr>\n",
       "      <th>0</th>\n",
       "      <td>Abbotsford</td>\n",
       "      <td>85 Turner St</td>\n",
       "      <td>2</td>\n",
       "      <td>h</td>\n",
       "      <td>1480000.0</td>\n",
       "      <td>S</td>\n",
       "      <td>Biggin</td>\n",
       "      <td>3/12/2016</td>\n",
       "      <td>2.5</td>\n",
       "      <td>3067.0</td>\n",
       "      <td>...</td>\n",
       "      <td>1.0</td>\n",
       "      <td>1.0</td>\n",
       "      <td>202.0</td>\n",
       "      <td>NaN</td>\n",
       "      <td>NaN</td>\n",
       "      <td>Yarra</td>\n",
       "      <td>-37.7996</td>\n",
       "      <td>144.9984</td>\n",
       "      <td>Northern Metropolitan</td>\n",
       "      <td>4019.0</td>\n",
       "    </tr>\n",
       "    <tr>\n",
       "      <th>1</th>\n",
       "      <td>Abbotsford</td>\n",
       "      <td>25 Bloomburg St</td>\n",
       "      <td>2</td>\n",
       "      <td>h</td>\n",
       "      <td>1035000.0</td>\n",
       "      <td>S</td>\n",
       "      <td>Biggin</td>\n",
       "      <td>4/02/2016</td>\n",
       "      <td>2.5</td>\n",
       "      <td>3067.0</td>\n",
       "      <td>...</td>\n",
       "      <td>1.0</td>\n",
       "      <td>0.0</td>\n",
       "      <td>156.0</td>\n",
       "      <td>79.0</td>\n",
       "      <td>1900.0</td>\n",
       "      <td>Yarra</td>\n",
       "      <td>-37.8079</td>\n",
       "      <td>144.9934</td>\n",
       "      <td>Northern Metropolitan</td>\n",
       "      <td>4019.0</td>\n",
       "    </tr>\n",
       "    <tr>\n",
       "      <th>2</th>\n",
       "      <td>Abbotsford</td>\n",
       "      <td>5 Charles St</td>\n",
       "      <td>3</td>\n",
       "      <td>h</td>\n",
       "      <td>1465000.0</td>\n",
       "      <td>SP</td>\n",
       "      <td>Biggin</td>\n",
       "      <td>4/03/2017</td>\n",
       "      <td>2.5</td>\n",
       "      <td>3067.0</td>\n",
       "      <td>...</td>\n",
       "      <td>2.0</td>\n",
       "      <td>0.0</td>\n",
       "      <td>134.0</td>\n",
       "      <td>150.0</td>\n",
       "      <td>1900.0</td>\n",
       "      <td>Yarra</td>\n",
       "      <td>-37.8093</td>\n",
       "      <td>144.9944</td>\n",
       "      <td>Northern Metropolitan</td>\n",
       "      <td>4019.0</td>\n",
       "    </tr>\n",
       "    <tr>\n",
       "      <th>3</th>\n",
       "      <td>Abbotsford</td>\n",
       "      <td>40 Federation La</td>\n",
       "      <td>3</td>\n",
       "      <td>h</td>\n",
       "      <td>850000.0</td>\n",
       "      <td>PI</td>\n",
       "      <td>Biggin</td>\n",
       "      <td>4/03/2017</td>\n",
       "      <td>2.5</td>\n",
       "      <td>3067.0</td>\n",
       "      <td>...</td>\n",
       "      <td>2.0</td>\n",
       "      <td>1.0</td>\n",
       "      <td>94.0</td>\n",
       "      <td>NaN</td>\n",
       "      <td>NaN</td>\n",
       "      <td>Yarra</td>\n",
       "      <td>-37.7969</td>\n",
       "      <td>144.9969</td>\n",
       "      <td>Northern Metropolitan</td>\n",
       "      <td>4019.0</td>\n",
       "    </tr>\n",
       "    <tr>\n",
       "      <th>4</th>\n",
       "      <td>Abbotsford</td>\n",
       "      <td>55a Park St</td>\n",
       "      <td>4</td>\n",
       "      <td>h</td>\n",
       "      <td>1600000.0</td>\n",
       "      <td>VB</td>\n",
       "      <td>Nelson</td>\n",
       "      <td>4/06/2016</td>\n",
       "      <td>2.5</td>\n",
       "      <td>3067.0</td>\n",
       "      <td>...</td>\n",
       "      <td>1.0</td>\n",
       "      <td>2.0</td>\n",
       "      <td>120.0</td>\n",
       "      <td>142.0</td>\n",
       "      <td>2014.0</td>\n",
       "      <td>Yarra</td>\n",
       "      <td>-37.8072</td>\n",
       "      <td>144.9941</td>\n",
       "      <td>Northern Metropolitan</td>\n",
       "      <td>4019.0</td>\n",
       "    </tr>\n",
       "  </tbody>\n",
       "</table>\n",
       "<p>5 rows × 21 columns</p>\n",
       "</div>"
      ],
      "text/plain": [
       "       Suburb           Address  Rooms Type      Price Method SellerG  \\\n",
       "0  Abbotsford      85 Turner St      2    h  1480000.0      S  Biggin   \n",
       "1  Abbotsford   25 Bloomburg St      2    h  1035000.0      S  Biggin   \n",
       "2  Abbotsford      5 Charles St      3    h  1465000.0     SP  Biggin   \n",
       "3  Abbotsford  40 Federation La      3    h   850000.0     PI  Biggin   \n",
       "4  Abbotsford       55a Park St      4    h  1600000.0     VB  Nelson   \n",
       "\n",
       "        Date  Distance  Postcode  ...  Bathroom  Car  Landsize  BuildingArea  \\\n",
       "0  3/12/2016       2.5    3067.0  ...       1.0  1.0     202.0           NaN   \n",
       "1  4/02/2016       2.5    3067.0  ...       1.0  0.0     156.0          79.0   \n",
       "2  4/03/2017       2.5    3067.0  ...       2.0  0.0     134.0         150.0   \n",
       "3  4/03/2017       2.5    3067.0  ...       2.0  1.0      94.0           NaN   \n",
       "4  4/06/2016       2.5    3067.0  ...       1.0  2.0     120.0         142.0   \n",
       "\n",
       "   YearBuilt  CouncilArea Lattitude  Longtitude             Regionname  \\\n",
       "0        NaN        Yarra  -37.7996    144.9984  Northern Metropolitan   \n",
       "1     1900.0        Yarra  -37.8079    144.9934  Northern Metropolitan   \n",
       "2     1900.0        Yarra  -37.8093    144.9944  Northern Metropolitan   \n",
       "3        NaN        Yarra  -37.7969    144.9969  Northern Metropolitan   \n",
       "4     2014.0        Yarra  -37.8072    144.9941  Northern Metropolitan   \n",
       "\n",
       "  Propertycount  \n",
       "0        4019.0  \n",
       "1        4019.0  \n",
       "2        4019.0  \n",
       "3        4019.0  \n",
       "4        4019.0  \n",
       "\n",
       "[5 rows x 21 columns]"
      ]
     },
     "execution_count": 22,
     "metadata": {},
     "output_type": "execute_result"
    }
   ],
   "source": [
    "melb = pd.read_csv('melb_data.csv')\n",
    "melb.head()"
   ]
  },
  {
   "cell_type": "markdown",
   "id": "74c86b42-c359-406e-a2a8-6bcf329addcc",
   "metadata": {},
   "source": [
    "#### Display all hidden columns."
   ]
  },
  {
   "cell_type": "code",
   "execution_count": 23,
   "id": "36acbc4a-15f4-4384-b7f9-d7ba0b743ce0",
   "metadata": {
    "tags": []
   },
   "outputs": [
    {
     "data": {
      "text/html": [
       "<div>\n",
       "<style scoped>\n",
       "    .dataframe tbody tr th:only-of-type {\n",
       "        vertical-align: middle;\n",
       "    }\n",
       "\n",
       "    .dataframe tbody tr th {\n",
       "        vertical-align: top;\n",
       "    }\n",
       "\n",
       "    .dataframe thead th {\n",
       "        text-align: right;\n",
       "    }\n",
       "</style>\n",
       "<table border=\"1\" class=\"dataframe\">\n",
       "  <thead>\n",
       "    <tr style=\"text-align: right;\">\n",
       "      <th></th>\n",
       "      <th>Suburb</th>\n",
       "      <th>Address</th>\n",
       "      <th>Rooms</th>\n",
       "      <th>Type</th>\n",
       "      <th>Price</th>\n",
       "      <th>Method</th>\n",
       "      <th>SellerG</th>\n",
       "      <th>Date</th>\n",
       "      <th>Distance</th>\n",
       "      <th>Postcode</th>\n",
       "      <th>Bedroom2</th>\n",
       "      <th>Bathroom</th>\n",
       "      <th>Car</th>\n",
       "      <th>Landsize</th>\n",
       "      <th>BuildingArea</th>\n",
       "      <th>YearBuilt</th>\n",
       "      <th>CouncilArea</th>\n",
       "      <th>Lattitude</th>\n",
       "      <th>Longtitude</th>\n",
       "      <th>Regionname</th>\n",
       "      <th>Propertycount</th>\n",
       "    </tr>\n",
       "  </thead>\n",
       "  <tbody>\n",
       "    <tr>\n",
       "      <th>0</th>\n",
       "      <td>Abbotsford</td>\n",
       "      <td>85 Turner St</td>\n",
       "      <td>2</td>\n",
       "      <td>h</td>\n",
       "      <td>1480000.0</td>\n",
       "      <td>S</td>\n",
       "      <td>Biggin</td>\n",
       "      <td>3/12/2016</td>\n",
       "      <td>2.5</td>\n",
       "      <td>3067.0</td>\n",
       "      <td>2.0</td>\n",
       "      <td>1.0</td>\n",
       "      <td>1.0</td>\n",
       "      <td>202.0</td>\n",
       "      <td>NaN</td>\n",
       "      <td>NaN</td>\n",
       "      <td>Yarra</td>\n",
       "      <td>-37.79960</td>\n",
       "      <td>144.99840</td>\n",
       "      <td>Northern Metropolitan</td>\n",
       "      <td>4019.0</td>\n",
       "    </tr>\n",
       "    <tr>\n",
       "      <th>1</th>\n",
       "      <td>Abbotsford</td>\n",
       "      <td>25 Bloomburg St</td>\n",
       "      <td>2</td>\n",
       "      <td>h</td>\n",
       "      <td>1035000.0</td>\n",
       "      <td>S</td>\n",
       "      <td>Biggin</td>\n",
       "      <td>4/02/2016</td>\n",
       "      <td>2.5</td>\n",
       "      <td>3067.0</td>\n",
       "      <td>2.0</td>\n",
       "      <td>1.0</td>\n",
       "      <td>0.0</td>\n",
       "      <td>156.0</td>\n",
       "      <td>79.0</td>\n",
       "      <td>1900.0</td>\n",
       "      <td>Yarra</td>\n",
       "      <td>-37.80790</td>\n",
       "      <td>144.99340</td>\n",
       "      <td>Northern Metropolitan</td>\n",
       "      <td>4019.0</td>\n",
       "    </tr>\n",
       "    <tr>\n",
       "      <th>2</th>\n",
       "      <td>Abbotsford</td>\n",
       "      <td>5 Charles St</td>\n",
       "      <td>3</td>\n",
       "      <td>h</td>\n",
       "      <td>1465000.0</td>\n",
       "      <td>SP</td>\n",
       "      <td>Biggin</td>\n",
       "      <td>4/03/2017</td>\n",
       "      <td>2.5</td>\n",
       "      <td>3067.0</td>\n",
       "      <td>3.0</td>\n",
       "      <td>2.0</td>\n",
       "      <td>0.0</td>\n",
       "      <td>134.0</td>\n",
       "      <td>150.0</td>\n",
       "      <td>1900.0</td>\n",
       "      <td>Yarra</td>\n",
       "      <td>-37.80930</td>\n",
       "      <td>144.99440</td>\n",
       "      <td>Northern Metropolitan</td>\n",
       "      <td>4019.0</td>\n",
       "    </tr>\n",
       "    <tr>\n",
       "      <th>3</th>\n",
       "      <td>Abbotsford</td>\n",
       "      <td>40 Federation La</td>\n",
       "      <td>3</td>\n",
       "      <td>h</td>\n",
       "      <td>850000.0</td>\n",
       "      <td>PI</td>\n",
       "      <td>Biggin</td>\n",
       "      <td>4/03/2017</td>\n",
       "      <td>2.5</td>\n",
       "      <td>3067.0</td>\n",
       "      <td>3.0</td>\n",
       "      <td>2.0</td>\n",
       "      <td>1.0</td>\n",
       "      <td>94.0</td>\n",
       "      <td>NaN</td>\n",
       "      <td>NaN</td>\n",
       "      <td>Yarra</td>\n",
       "      <td>-37.79690</td>\n",
       "      <td>144.99690</td>\n",
       "      <td>Northern Metropolitan</td>\n",
       "      <td>4019.0</td>\n",
       "    </tr>\n",
       "    <tr>\n",
       "      <th>4</th>\n",
       "      <td>Abbotsford</td>\n",
       "      <td>55a Park St</td>\n",
       "      <td>4</td>\n",
       "      <td>h</td>\n",
       "      <td>1600000.0</td>\n",
       "      <td>VB</td>\n",
       "      <td>Nelson</td>\n",
       "      <td>4/06/2016</td>\n",
       "      <td>2.5</td>\n",
       "      <td>3067.0</td>\n",
       "      <td>3.0</td>\n",
       "      <td>1.0</td>\n",
       "      <td>2.0</td>\n",
       "      <td>120.0</td>\n",
       "      <td>142.0</td>\n",
       "      <td>2014.0</td>\n",
       "      <td>Yarra</td>\n",
       "      <td>-37.80720</td>\n",
       "      <td>144.99410</td>\n",
       "      <td>Northern Metropolitan</td>\n",
       "      <td>4019.0</td>\n",
       "    </tr>\n",
       "    <tr>\n",
       "      <th>...</th>\n",
       "      <td>...</td>\n",
       "      <td>...</td>\n",
       "      <td>...</td>\n",
       "      <td>...</td>\n",
       "      <td>...</td>\n",
       "      <td>...</td>\n",
       "      <td>...</td>\n",
       "      <td>...</td>\n",
       "      <td>...</td>\n",
       "      <td>...</td>\n",
       "      <td>...</td>\n",
       "      <td>...</td>\n",
       "      <td>...</td>\n",
       "      <td>...</td>\n",
       "      <td>...</td>\n",
       "      <td>...</td>\n",
       "      <td>...</td>\n",
       "      <td>...</td>\n",
       "      <td>...</td>\n",
       "      <td>...</td>\n",
       "      <td>...</td>\n",
       "    </tr>\n",
       "    <tr>\n",
       "      <th>13575</th>\n",
       "      <td>Wheelers Hill</td>\n",
       "      <td>12 Strada Cr</td>\n",
       "      <td>4</td>\n",
       "      <td>h</td>\n",
       "      <td>1245000.0</td>\n",
       "      <td>S</td>\n",
       "      <td>Barry</td>\n",
       "      <td>26/08/2017</td>\n",
       "      <td>16.7</td>\n",
       "      <td>3150.0</td>\n",
       "      <td>4.0</td>\n",
       "      <td>2.0</td>\n",
       "      <td>2.0</td>\n",
       "      <td>652.0</td>\n",
       "      <td>NaN</td>\n",
       "      <td>1981.0</td>\n",
       "      <td>NaN</td>\n",
       "      <td>-37.90562</td>\n",
       "      <td>145.16761</td>\n",
       "      <td>South-Eastern Metropolitan</td>\n",
       "      <td>7392.0</td>\n",
       "    </tr>\n",
       "    <tr>\n",
       "      <th>13576</th>\n",
       "      <td>Williamstown</td>\n",
       "      <td>77 Merrett Dr</td>\n",
       "      <td>3</td>\n",
       "      <td>h</td>\n",
       "      <td>1031000.0</td>\n",
       "      <td>SP</td>\n",
       "      <td>Williams</td>\n",
       "      <td>26/08/2017</td>\n",
       "      <td>6.8</td>\n",
       "      <td>3016.0</td>\n",
       "      <td>3.0</td>\n",
       "      <td>2.0</td>\n",
       "      <td>2.0</td>\n",
       "      <td>333.0</td>\n",
       "      <td>133.0</td>\n",
       "      <td>1995.0</td>\n",
       "      <td>NaN</td>\n",
       "      <td>-37.85927</td>\n",
       "      <td>144.87904</td>\n",
       "      <td>Western Metropolitan</td>\n",
       "      <td>6380.0</td>\n",
       "    </tr>\n",
       "    <tr>\n",
       "      <th>13577</th>\n",
       "      <td>Williamstown</td>\n",
       "      <td>83 Power St</td>\n",
       "      <td>3</td>\n",
       "      <td>h</td>\n",
       "      <td>1170000.0</td>\n",
       "      <td>S</td>\n",
       "      <td>Raine</td>\n",
       "      <td>26/08/2017</td>\n",
       "      <td>6.8</td>\n",
       "      <td>3016.0</td>\n",
       "      <td>3.0</td>\n",
       "      <td>2.0</td>\n",
       "      <td>4.0</td>\n",
       "      <td>436.0</td>\n",
       "      <td>NaN</td>\n",
       "      <td>1997.0</td>\n",
       "      <td>NaN</td>\n",
       "      <td>-37.85274</td>\n",
       "      <td>144.88738</td>\n",
       "      <td>Western Metropolitan</td>\n",
       "      <td>6380.0</td>\n",
       "    </tr>\n",
       "    <tr>\n",
       "      <th>13578</th>\n",
       "      <td>Williamstown</td>\n",
       "      <td>96 Verdon St</td>\n",
       "      <td>4</td>\n",
       "      <td>h</td>\n",
       "      <td>2500000.0</td>\n",
       "      <td>PI</td>\n",
       "      <td>Sweeney</td>\n",
       "      <td>26/08/2017</td>\n",
       "      <td>6.8</td>\n",
       "      <td>3016.0</td>\n",
       "      <td>4.0</td>\n",
       "      <td>1.0</td>\n",
       "      <td>5.0</td>\n",
       "      <td>866.0</td>\n",
       "      <td>157.0</td>\n",
       "      <td>1920.0</td>\n",
       "      <td>NaN</td>\n",
       "      <td>-37.85908</td>\n",
       "      <td>144.89299</td>\n",
       "      <td>Western Metropolitan</td>\n",
       "      <td>6380.0</td>\n",
       "    </tr>\n",
       "    <tr>\n",
       "      <th>13579</th>\n",
       "      <td>Yarraville</td>\n",
       "      <td>6 Agnes St</td>\n",
       "      <td>4</td>\n",
       "      <td>h</td>\n",
       "      <td>1285000.0</td>\n",
       "      <td>SP</td>\n",
       "      <td>Village</td>\n",
       "      <td>26/08/2017</td>\n",
       "      <td>6.3</td>\n",
       "      <td>3013.0</td>\n",
       "      <td>4.0</td>\n",
       "      <td>1.0</td>\n",
       "      <td>1.0</td>\n",
       "      <td>362.0</td>\n",
       "      <td>112.0</td>\n",
       "      <td>1920.0</td>\n",
       "      <td>NaN</td>\n",
       "      <td>-37.81188</td>\n",
       "      <td>144.88449</td>\n",
       "      <td>Western Metropolitan</td>\n",
       "      <td>6543.0</td>\n",
       "    </tr>\n",
       "  </tbody>\n",
       "</table>\n",
       "<p>13580 rows × 21 columns</p>\n",
       "</div>"
      ],
      "text/plain": [
       "              Suburb           Address  Rooms Type      Price Method  \\\n",
       "0         Abbotsford      85 Turner St      2    h  1480000.0      S   \n",
       "1         Abbotsford   25 Bloomburg St      2    h  1035000.0      S   \n",
       "2         Abbotsford      5 Charles St      3    h  1465000.0     SP   \n",
       "3         Abbotsford  40 Federation La      3    h   850000.0     PI   \n",
       "4         Abbotsford       55a Park St      4    h  1600000.0     VB   \n",
       "...              ...               ...    ...  ...        ...    ...   \n",
       "13575  Wheelers Hill      12 Strada Cr      4    h  1245000.0      S   \n",
       "13576   Williamstown     77 Merrett Dr      3    h  1031000.0     SP   \n",
       "13577   Williamstown       83 Power St      3    h  1170000.0      S   \n",
       "13578   Williamstown      96 Verdon St      4    h  2500000.0     PI   \n",
       "13579     Yarraville        6 Agnes St      4    h  1285000.0     SP   \n",
       "\n",
       "        SellerG        Date  Distance  Postcode  Bedroom2  Bathroom  Car  \\\n",
       "0        Biggin   3/12/2016       2.5    3067.0       2.0       1.0  1.0   \n",
       "1        Biggin   4/02/2016       2.5    3067.0       2.0       1.0  0.0   \n",
       "2        Biggin   4/03/2017       2.5    3067.0       3.0       2.0  0.0   \n",
       "3        Biggin   4/03/2017       2.5    3067.0       3.0       2.0  1.0   \n",
       "4        Nelson   4/06/2016       2.5    3067.0       3.0       1.0  2.0   \n",
       "...         ...         ...       ...       ...       ...       ...  ...   \n",
       "13575     Barry  26/08/2017      16.7    3150.0       4.0       2.0  2.0   \n",
       "13576  Williams  26/08/2017       6.8    3016.0       3.0       2.0  2.0   \n",
       "13577     Raine  26/08/2017       6.8    3016.0       3.0       2.0  4.0   \n",
       "13578   Sweeney  26/08/2017       6.8    3016.0       4.0       1.0  5.0   \n",
       "13579   Village  26/08/2017       6.3    3013.0       4.0       1.0  1.0   \n",
       "\n",
       "       Landsize  BuildingArea  YearBuilt CouncilArea  Lattitude  Longtitude  \\\n",
       "0         202.0           NaN        NaN       Yarra  -37.79960   144.99840   \n",
       "1         156.0          79.0     1900.0       Yarra  -37.80790   144.99340   \n",
       "2         134.0         150.0     1900.0       Yarra  -37.80930   144.99440   \n",
       "3          94.0           NaN        NaN       Yarra  -37.79690   144.99690   \n",
       "4         120.0         142.0     2014.0       Yarra  -37.80720   144.99410   \n",
       "...         ...           ...        ...         ...        ...         ...   \n",
       "13575     652.0           NaN     1981.0         NaN  -37.90562   145.16761   \n",
       "13576     333.0         133.0     1995.0         NaN  -37.85927   144.87904   \n",
       "13577     436.0           NaN     1997.0         NaN  -37.85274   144.88738   \n",
       "13578     866.0         157.0     1920.0         NaN  -37.85908   144.89299   \n",
       "13579     362.0         112.0     1920.0         NaN  -37.81188   144.88449   \n",
       "\n",
       "                       Regionname  Propertycount  \n",
       "0           Northern Metropolitan         4019.0  \n",
       "1           Northern Metropolitan         4019.0  \n",
       "2           Northern Metropolitan         4019.0  \n",
       "3           Northern Metropolitan         4019.0  \n",
       "4           Northern Metropolitan         4019.0  \n",
       "...                           ...            ...  \n",
       "13575  South-Eastern Metropolitan         7392.0  \n",
       "13576        Western Metropolitan         6380.0  \n",
       "13577        Western Metropolitan         6380.0  \n",
       "13578        Western Metropolitan         6380.0  \n",
       "13579        Western Metropolitan         6543.0  \n",
       "\n",
       "[13580 rows x 21 columns]"
      ]
     },
     "execution_count": 23,
     "metadata": {},
     "output_type": "execute_result"
    }
   ],
   "source": [
    "pd.set_option('display.max_columns', 21)\n",
    "melb"
   ]
  },
  {
   "cell_type": "markdown",
   "id": "79a7a882-78b2-47d8-a33a-16e485aec1f2",
   "metadata": {},
   "source": [
    "#### statistical information"
   ]
  },
  {
   "cell_type": "code",
   "execution_count": 24,
   "id": "4e250ad4-f9f6-44e0-8b6d-ba98bc341e71",
   "metadata": {
    "tags": []
   },
   "outputs": [
    {
     "data": {
      "text/html": [
       "<div>\n",
       "<style scoped>\n",
       "    .dataframe tbody tr th:only-of-type {\n",
       "        vertical-align: middle;\n",
       "    }\n",
       "\n",
       "    .dataframe tbody tr th {\n",
       "        vertical-align: top;\n",
       "    }\n",
       "\n",
       "    .dataframe thead th {\n",
       "        text-align: right;\n",
       "    }\n",
       "</style>\n",
       "<table border=\"1\" class=\"dataframe\">\n",
       "  <thead>\n",
       "    <tr style=\"text-align: right;\">\n",
       "      <th></th>\n",
       "      <th>Rooms</th>\n",
       "      <th>Price</th>\n",
       "      <th>Distance</th>\n",
       "      <th>Postcode</th>\n",
       "      <th>Bedroom2</th>\n",
       "      <th>Bathroom</th>\n",
       "      <th>Car</th>\n",
       "      <th>Landsize</th>\n",
       "      <th>BuildingArea</th>\n",
       "      <th>YearBuilt</th>\n",
       "      <th>Lattitude</th>\n",
       "      <th>Longtitude</th>\n",
       "      <th>Propertycount</th>\n",
       "    </tr>\n",
       "  </thead>\n",
       "  <tbody>\n",
       "    <tr>\n",
       "      <th>count</th>\n",
       "      <td>13580.000000</td>\n",
       "      <td>1.358000e+04</td>\n",
       "      <td>13580.000000</td>\n",
       "      <td>13580.000000</td>\n",
       "      <td>13580.000000</td>\n",
       "      <td>13580.000000</td>\n",
       "      <td>13518.000000</td>\n",
       "      <td>13580.000000</td>\n",
       "      <td>7130.000000</td>\n",
       "      <td>8205.000000</td>\n",
       "      <td>13580.000000</td>\n",
       "      <td>13580.000000</td>\n",
       "      <td>13580.000000</td>\n",
       "    </tr>\n",
       "    <tr>\n",
       "      <th>mean</th>\n",
       "      <td>2.937997</td>\n",
       "      <td>1.075684e+06</td>\n",
       "      <td>10.137776</td>\n",
       "      <td>3105.301915</td>\n",
       "      <td>2.914728</td>\n",
       "      <td>1.534242</td>\n",
       "      <td>1.610075</td>\n",
       "      <td>558.416127</td>\n",
       "      <td>151.967650</td>\n",
       "      <td>1964.684217</td>\n",
       "      <td>-37.809203</td>\n",
       "      <td>144.995216</td>\n",
       "      <td>7454.417378</td>\n",
       "    </tr>\n",
       "    <tr>\n",
       "      <th>std</th>\n",
       "      <td>0.955748</td>\n",
       "      <td>6.393107e+05</td>\n",
       "      <td>5.868725</td>\n",
       "      <td>90.676964</td>\n",
       "      <td>0.965921</td>\n",
       "      <td>0.691712</td>\n",
       "      <td>0.962634</td>\n",
       "      <td>3990.669241</td>\n",
       "      <td>541.014538</td>\n",
       "      <td>37.273762</td>\n",
       "      <td>0.079260</td>\n",
       "      <td>0.103916</td>\n",
       "      <td>4378.581772</td>\n",
       "    </tr>\n",
       "    <tr>\n",
       "      <th>min</th>\n",
       "      <td>1.000000</td>\n",
       "      <td>8.500000e+04</td>\n",
       "      <td>0.000000</td>\n",
       "      <td>3000.000000</td>\n",
       "      <td>0.000000</td>\n",
       "      <td>0.000000</td>\n",
       "      <td>0.000000</td>\n",
       "      <td>0.000000</td>\n",
       "      <td>0.000000</td>\n",
       "      <td>1196.000000</td>\n",
       "      <td>-38.182550</td>\n",
       "      <td>144.431810</td>\n",
       "      <td>249.000000</td>\n",
       "    </tr>\n",
       "    <tr>\n",
       "      <th>25%</th>\n",
       "      <td>2.000000</td>\n",
       "      <td>6.500000e+05</td>\n",
       "      <td>6.100000</td>\n",
       "      <td>3044.000000</td>\n",
       "      <td>2.000000</td>\n",
       "      <td>1.000000</td>\n",
       "      <td>1.000000</td>\n",
       "      <td>177.000000</td>\n",
       "      <td>93.000000</td>\n",
       "      <td>1940.000000</td>\n",
       "      <td>-37.856822</td>\n",
       "      <td>144.929600</td>\n",
       "      <td>4380.000000</td>\n",
       "    </tr>\n",
       "    <tr>\n",
       "      <th>50%</th>\n",
       "      <td>3.000000</td>\n",
       "      <td>9.030000e+05</td>\n",
       "      <td>9.200000</td>\n",
       "      <td>3084.000000</td>\n",
       "      <td>3.000000</td>\n",
       "      <td>1.000000</td>\n",
       "      <td>2.000000</td>\n",
       "      <td>440.000000</td>\n",
       "      <td>126.000000</td>\n",
       "      <td>1970.000000</td>\n",
       "      <td>-37.802355</td>\n",
       "      <td>145.000100</td>\n",
       "      <td>6555.000000</td>\n",
       "    </tr>\n",
       "    <tr>\n",
       "      <th>75%</th>\n",
       "      <td>3.000000</td>\n",
       "      <td>1.330000e+06</td>\n",
       "      <td>13.000000</td>\n",
       "      <td>3148.000000</td>\n",
       "      <td>3.000000</td>\n",
       "      <td>2.000000</td>\n",
       "      <td>2.000000</td>\n",
       "      <td>651.000000</td>\n",
       "      <td>174.000000</td>\n",
       "      <td>1999.000000</td>\n",
       "      <td>-37.756400</td>\n",
       "      <td>145.058305</td>\n",
       "      <td>10331.000000</td>\n",
       "    </tr>\n",
       "    <tr>\n",
       "      <th>max</th>\n",
       "      <td>10.000000</td>\n",
       "      <td>9.000000e+06</td>\n",
       "      <td>48.100000</td>\n",
       "      <td>3977.000000</td>\n",
       "      <td>20.000000</td>\n",
       "      <td>8.000000</td>\n",
       "      <td>10.000000</td>\n",
       "      <td>433014.000000</td>\n",
       "      <td>44515.000000</td>\n",
       "      <td>2018.000000</td>\n",
       "      <td>-37.408530</td>\n",
       "      <td>145.526350</td>\n",
       "      <td>21650.000000</td>\n",
       "    </tr>\n",
       "  </tbody>\n",
       "</table>\n",
       "</div>"
      ],
      "text/plain": [
       "              Rooms         Price      Distance      Postcode      Bedroom2  \\\n",
       "count  13580.000000  1.358000e+04  13580.000000  13580.000000  13580.000000   \n",
       "mean       2.937997  1.075684e+06     10.137776   3105.301915      2.914728   \n",
       "std        0.955748  6.393107e+05      5.868725     90.676964      0.965921   \n",
       "min        1.000000  8.500000e+04      0.000000   3000.000000      0.000000   \n",
       "25%        2.000000  6.500000e+05      6.100000   3044.000000      2.000000   \n",
       "50%        3.000000  9.030000e+05      9.200000   3084.000000      3.000000   \n",
       "75%        3.000000  1.330000e+06     13.000000   3148.000000      3.000000   \n",
       "max       10.000000  9.000000e+06     48.100000   3977.000000     20.000000   \n",
       "\n",
       "           Bathroom           Car       Landsize  BuildingArea    YearBuilt  \\\n",
       "count  13580.000000  13518.000000   13580.000000   7130.000000  8205.000000   \n",
       "mean       1.534242      1.610075     558.416127    151.967650  1964.684217   \n",
       "std        0.691712      0.962634    3990.669241    541.014538    37.273762   \n",
       "min        0.000000      0.000000       0.000000      0.000000  1196.000000   \n",
       "25%        1.000000      1.000000     177.000000     93.000000  1940.000000   \n",
       "50%        1.000000      2.000000     440.000000    126.000000  1970.000000   \n",
       "75%        2.000000      2.000000     651.000000    174.000000  1999.000000   \n",
       "max        8.000000     10.000000  433014.000000  44515.000000  2018.000000   \n",
       "\n",
       "          Lattitude    Longtitude  Propertycount  \n",
       "count  13580.000000  13580.000000   13580.000000  \n",
       "mean     -37.809203    144.995216    7454.417378  \n",
       "std        0.079260      0.103916    4378.581772  \n",
       "min      -38.182550    144.431810     249.000000  \n",
       "25%      -37.856822    144.929600    4380.000000  \n",
       "50%      -37.802355    145.000100    6555.000000  \n",
       "75%      -37.756400    145.058305   10331.000000  \n",
       "max      -37.408530    145.526350   21650.000000  "
      ]
     },
     "execution_count": 24,
     "metadata": {},
     "output_type": "execute_result"
    }
   ],
   "source": [
    "melb.describe()"
   ]
  },
  {
   "cell_type": "code",
   "execution_count": 25,
   "id": "1a5766ab-c539-44dc-9269-216d95a71c8d",
   "metadata": {
    "tags": []
   },
   "outputs": [
    {
     "name": "stdout",
     "output_type": "stream",
     "text": [
      "Shape of actual data :  (13580, 21)\n"
     ]
    }
   ],
   "source": [
    "print(\"Shape of actual data : \", melb.shape)"
   ]
  },
  {
   "cell_type": "markdown",
   "id": "f347ce3e-a7f6-4dbb-80a8-d8c62d108fd9",
   "metadata": {},
   "source": [
    "#### Check for null values."
   ]
  },
  {
   "cell_type": "code",
   "execution_count": 26,
   "id": "5c580638-9268-4d59-a641-8dd31894baba",
   "metadata": {
    "tags": []
   },
   "outputs": [
    {
     "data": {
      "text/plain": [
       "Suburb              0\n",
       "Address             0\n",
       "Rooms               0\n",
       "Type                0\n",
       "Price               0\n",
       "Method              0\n",
       "SellerG             0\n",
       "Date                0\n",
       "Distance            0\n",
       "Postcode            0\n",
       "Bedroom2            0\n",
       "Bathroom            0\n",
       "Car                62\n",
       "Landsize            0\n",
       "BuildingArea     6450\n",
       "YearBuilt        5375\n",
       "CouncilArea      1369\n",
       "Lattitude           0\n",
       "Longtitude          0\n",
       "Regionname          0\n",
       "Propertycount       0\n",
       "dtype: int64"
      ]
     },
     "execution_count": 26,
     "metadata": {},
     "output_type": "execute_result"
    }
   ],
   "source": [
    "melb.isnull().sum()"
   ]
  },
  {
   "cell_type": "markdown",
   "id": "7f1f910b-7382-47ac-b730-2ac545c97ff4",
   "metadata": {},
   "source": [
    "#### Handeling missing values, by droping the rows with missing values"
   ]
  },
  {
   "cell_type": "code",
   "execution_count": 27,
   "id": "e6b011bb-cd43-4753-95c5-2a9757ea6f7b",
   "metadata": {
    "tags": []
   },
   "outputs": [
    {
     "name": "stdout",
     "output_type": "stream",
     "text": [
      "shape of dataset after dropping the missing values :  (6196, 21)\n"
     ]
    }
   ],
   "source": [
    "mhs = melb.dropna()\n",
    "print(\"shape of dataset after dropping the missing values : \", mhs.shape)"
   ]
  },
  {
   "cell_type": "code",
   "execution_count": 28,
   "id": "7f01079c-c53a-4608-849c-8cfdeb517fec",
   "metadata": {
    "tags": []
   },
   "outputs": [
    {
     "name": "stdout",
     "output_type": "stream",
     "text": [
      "Data loss :  54.3740795287187\n"
     ]
    }
   ],
   "source": [
    "data_loss=(13580-6196)/13580*100 \n",
    "# 13580 (number of rows in the original dataframe) and 6196 (number of rows after removing the missing/null values)\n",
    "print(\"Data loss : \", data_loss)"
   ]
  },
  {
   "cell_type": "markdown",
   "id": "23e0f323-bbe7-4ee9-b798-ead1b7ef0caf",
   "metadata": {},
   "source": [
    "#### Encode the categorical variables."
   ]
  },
  {
   "cell_type": "code",
   "execution_count": 29,
   "id": "40eb8087-b6dc-4ce4-a51e-2d3eab636283",
   "metadata": {
    "tags": []
   },
   "outputs": [
    {
     "data": {
      "text/html": [
       "<div>\n",
       "<style scoped>\n",
       "    .dataframe tbody tr th:only-of-type {\n",
       "        vertical-align: middle;\n",
       "    }\n",
       "\n",
       "    .dataframe tbody tr th {\n",
       "        vertical-align: top;\n",
       "    }\n",
       "\n",
       "    .dataframe thead th {\n",
       "        text-align: right;\n",
       "    }\n",
       "</style>\n",
       "<table border=\"1\" class=\"dataframe\">\n",
       "  <thead>\n",
       "    <tr style=\"text-align: right;\">\n",
       "      <th></th>\n",
       "      <th>Suburb</th>\n",
       "      <th>Address</th>\n",
       "      <th>Rooms</th>\n",
       "      <th>Type</th>\n",
       "      <th>Price</th>\n",
       "      <th>Method</th>\n",
       "      <th>SellerG</th>\n",
       "      <th>Date</th>\n",
       "      <th>Distance</th>\n",
       "      <th>Postcode</th>\n",
       "      <th>Bedroom2</th>\n",
       "      <th>Bathroom</th>\n",
       "      <th>Car</th>\n",
       "      <th>Landsize</th>\n",
       "      <th>BuildingArea</th>\n",
       "      <th>YearBuilt</th>\n",
       "      <th>CouncilArea</th>\n",
       "      <th>Lattitude</th>\n",
       "      <th>Longtitude</th>\n",
       "      <th>Regionname</th>\n",
       "      <th>Propertycount</th>\n",
       "    </tr>\n",
       "  </thead>\n",
       "  <tbody>\n",
       "    <tr>\n",
       "      <th>1</th>\n",
       "      <td>0</td>\n",
       "      <td>2790</td>\n",
       "      <td>2</td>\n",
       "      <td>0</td>\n",
       "      <td>1035000.0</td>\n",
       "      <td>1</td>\n",
       "      <td>18</td>\n",
       "      <td>41</td>\n",
       "      <td>2.5</td>\n",
       "      <td>3067.0</td>\n",
       "      <td>2.0</td>\n",
       "      <td>1.0</td>\n",
       "      <td>0.0</td>\n",
       "      <td>156.0</td>\n",
       "      <td>79.00</td>\n",
       "      <td>1900.0</td>\n",
       "      <td>29</td>\n",
       "      <td>-37.80790</td>\n",
       "      <td>144.99340</td>\n",
       "      <td>2</td>\n",
       "      <td>4019.0</td>\n",
       "    </tr>\n",
       "    <tr>\n",
       "      <th>2</th>\n",
       "      <td>0</td>\n",
       "      <td>4520</td>\n",
       "      <td>3</td>\n",
       "      <td>0</td>\n",
       "      <td>1465000.0</td>\n",
       "      <td>3</td>\n",
       "      <td>18</td>\n",
       "      <td>42</td>\n",
       "      <td>2.5</td>\n",
       "      <td>3067.0</td>\n",
       "      <td>3.0</td>\n",
       "      <td>2.0</td>\n",
       "      <td>0.0</td>\n",
       "      <td>134.0</td>\n",
       "      <td>150.00</td>\n",
       "      <td>1900.0</td>\n",
       "      <td>29</td>\n",
       "      <td>-37.80930</td>\n",
       "      <td>144.99440</td>\n",
       "      <td>2</td>\n",
       "      <td>4019.0</td>\n",
       "    </tr>\n",
       "    <tr>\n",
       "      <th>4</th>\n",
       "      <td>0</td>\n",
       "      <td>4882</td>\n",
       "      <td>4</td>\n",
       "      <td>0</td>\n",
       "      <td>1600000.0</td>\n",
       "      <td>4</td>\n",
       "      <td>112</td>\n",
       "      <td>43</td>\n",
       "      <td>2.5</td>\n",
       "      <td>3067.0</td>\n",
       "      <td>3.0</td>\n",
       "      <td>1.0</td>\n",
       "      <td>2.0</td>\n",
       "      <td>120.0</td>\n",
       "      <td>142.00</td>\n",
       "      <td>2014.0</td>\n",
       "      <td>29</td>\n",
       "      <td>-37.80720</td>\n",
       "      <td>144.99410</td>\n",
       "      <td>2</td>\n",
       "      <td>4019.0</td>\n",
       "    </tr>\n",
       "    <tr>\n",
       "      <th>6</th>\n",
       "      <td>0</td>\n",
       "      <td>1027</td>\n",
       "      <td>3</td>\n",
       "      <td>0</td>\n",
       "      <td>1876000.0</td>\n",
       "      <td>1</td>\n",
       "      <td>112</td>\n",
       "      <td>46</td>\n",
       "      <td>2.5</td>\n",
       "      <td>3067.0</td>\n",
       "      <td>4.0</td>\n",
       "      <td>2.0</td>\n",
       "      <td>0.0</td>\n",
       "      <td>245.0</td>\n",
       "      <td>210.00</td>\n",
       "      <td>1910.0</td>\n",
       "      <td>29</td>\n",
       "      <td>-37.80240</td>\n",
       "      <td>144.99930</td>\n",
       "      <td>2</td>\n",
       "      <td>4019.0</td>\n",
       "    </tr>\n",
       "    <tr>\n",
       "      <th>7</th>\n",
       "      <td>0</td>\n",
       "      <td>6101</td>\n",
       "      <td>2</td>\n",
       "      <td>0</td>\n",
       "      <td>1636000.0</td>\n",
       "      <td>1</td>\n",
       "      <td>112</td>\n",
       "      <td>50</td>\n",
       "      <td>2.5</td>\n",
       "      <td>3067.0</td>\n",
       "      <td>2.0</td>\n",
       "      <td>1.0</td>\n",
       "      <td>2.0</td>\n",
       "      <td>256.0</td>\n",
       "      <td>107.00</td>\n",
       "      <td>1890.0</td>\n",
       "      <td>29</td>\n",
       "      <td>-37.80600</td>\n",
       "      <td>144.99540</td>\n",
       "      <td>2</td>\n",
       "      <td>4019.0</td>\n",
       "    </tr>\n",
       "    <tr>\n",
       "      <th>...</th>\n",
       "      <td>...</td>\n",
       "      <td>...</td>\n",
       "      <td>...</td>\n",
       "      <td>...</td>\n",
       "      <td>...</td>\n",
       "      <td>...</td>\n",
       "      <td>...</td>\n",
       "      <td>...</td>\n",
       "      <td>...</td>\n",
       "      <td>...</td>\n",
       "      <td>...</td>\n",
       "      <td>...</td>\n",
       "      <td>...</td>\n",
       "      <td>...</td>\n",
       "      <td>...</td>\n",
       "      <td>...</td>\n",
       "      <td>...</td>\n",
       "      <td>...</td>\n",
       "      <td>...</td>\n",
       "      <td>...</td>\n",
       "      <td>...</td>\n",
       "    </tr>\n",
       "    <tr>\n",
       "      <th>12205</th>\n",
       "      <td>278</td>\n",
       "      <td>3461</td>\n",
       "      <td>3</td>\n",
       "      <td>0</td>\n",
       "      <td>601000.0</td>\n",
       "      <td>1</td>\n",
       "      <td>145</td>\n",
       "      <td>36</td>\n",
       "      <td>35.5</td>\n",
       "      <td>3757.0</td>\n",
       "      <td>3.0</td>\n",
       "      <td>2.0</td>\n",
       "      <td>1.0</td>\n",
       "      <td>972.0</td>\n",
       "      <td>149.00</td>\n",
       "      <td>1996.0</td>\n",
       "      <td>27</td>\n",
       "      <td>-37.51232</td>\n",
       "      <td>145.13282</td>\n",
       "      <td>3</td>\n",
       "      <td>2170.0</td>\n",
       "    </tr>\n",
       "    <tr>\n",
       "      <th>12206</th>\n",
       "      <td>279</td>\n",
       "      <td>5563</td>\n",
       "      <td>3</td>\n",
       "      <td>0</td>\n",
       "      <td>1050000.0</td>\n",
       "      <td>4</td>\n",
       "      <td>189</td>\n",
       "      <td>36</td>\n",
       "      <td>6.8</td>\n",
       "      <td>3016.0</td>\n",
       "      <td>3.0</td>\n",
       "      <td>1.0</td>\n",
       "      <td>0.0</td>\n",
       "      <td>179.0</td>\n",
       "      <td>115.00</td>\n",
       "      <td>1890.0</td>\n",
       "      <td>10</td>\n",
       "      <td>-37.86558</td>\n",
       "      <td>144.90474</td>\n",
       "      <td>6</td>\n",
       "      <td>6380.0</td>\n",
       "    </tr>\n",
       "    <tr>\n",
       "      <th>12207</th>\n",
       "      <td>279</td>\n",
       "      <td>2151</td>\n",
       "      <td>1</td>\n",
       "      <td>2</td>\n",
       "      <td>385000.0</td>\n",
       "      <td>3</td>\n",
       "      <td>189</td>\n",
       "      <td>36</td>\n",
       "      <td>6.8</td>\n",
       "      <td>3016.0</td>\n",
       "      <td>1.0</td>\n",
       "      <td>1.0</td>\n",
       "      <td>1.0</td>\n",
       "      <td>0.0</td>\n",
       "      <td>35.64</td>\n",
       "      <td>1967.0</td>\n",
       "      <td>10</td>\n",
       "      <td>-37.85588</td>\n",
       "      <td>144.89936</td>\n",
       "      <td>6</td>\n",
       "      <td>6380.0</td>\n",
       "    </tr>\n",
       "    <tr>\n",
       "      <th>12209</th>\n",
       "      <td>281</td>\n",
       "      <td>2411</td>\n",
       "      <td>2</td>\n",
       "      <td>2</td>\n",
       "      <td>560000.0</td>\n",
       "      <td>0</td>\n",
       "      <td>196</td>\n",
       "      <td>36</td>\n",
       "      <td>4.6</td>\n",
       "      <td>3181.0</td>\n",
       "      <td>2.0</td>\n",
       "      <td>1.0</td>\n",
       "      <td>1.0</td>\n",
       "      <td>0.0</td>\n",
       "      <td>61.60</td>\n",
       "      <td>2012.0</td>\n",
       "      <td>25</td>\n",
       "      <td>-37.85581</td>\n",
       "      <td>144.99025</td>\n",
       "      <td>5</td>\n",
       "      <td>4380.0</td>\n",
       "    </tr>\n",
       "    <tr>\n",
       "      <th>12212</th>\n",
       "      <td>286</td>\n",
       "      <td>4850</td>\n",
       "      <td>6</td>\n",
       "      <td>0</td>\n",
       "      <td>2450000.0</td>\n",
       "      <td>4</td>\n",
       "      <td>179</td>\n",
       "      <td>36</td>\n",
       "      <td>6.3</td>\n",
       "      <td>3013.0</td>\n",
       "      <td>6.0</td>\n",
       "      <td>3.0</td>\n",
       "      <td>2.0</td>\n",
       "      <td>1087.0</td>\n",
       "      <td>388.50</td>\n",
       "      <td>1920.0</td>\n",
       "      <td>16</td>\n",
       "      <td>-37.81038</td>\n",
       "      <td>144.89389</td>\n",
       "      <td>6</td>\n",
       "      <td>6543.0</td>\n",
       "    </tr>\n",
       "  </tbody>\n",
       "</table>\n",
       "<p>6196 rows × 21 columns</p>\n",
       "</div>"
      ],
      "text/plain": [
       "       Suburb  Address  Rooms  Type      Price  Method  SellerG  Date  \\\n",
       "1           0     2790      2     0  1035000.0       1       18    41   \n",
       "2           0     4520      3     0  1465000.0       3       18    42   \n",
       "4           0     4882      4     0  1600000.0       4      112    43   \n",
       "6           0     1027      3     0  1876000.0       1      112    46   \n",
       "7           0     6101      2     0  1636000.0       1      112    50   \n",
       "...       ...      ...    ...   ...        ...     ...      ...   ...   \n",
       "12205     278     3461      3     0   601000.0       1      145    36   \n",
       "12206     279     5563      3     0  1050000.0       4      189    36   \n",
       "12207     279     2151      1     2   385000.0       3      189    36   \n",
       "12209     281     2411      2     2   560000.0       0      196    36   \n",
       "12212     286     4850      6     0  2450000.0       4      179    36   \n",
       "\n",
       "       Distance  Postcode  Bedroom2  Bathroom  Car  Landsize  BuildingArea  \\\n",
       "1           2.5    3067.0       2.0       1.0  0.0     156.0         79.00   \n",
       "2           2.5    3067.0       3.0       2.0  0.0     134.0        150.00   \n",
       "4           2.5    3067.0       3.0       1.0  2.0     120.0        142.00   \n",
       "6           2.5    3067.0       4.0       2.0  0.0     245.0        210.00   \n",
       "7           2.5    3067.0       2.0       1.0  2.0     256.0        107.00   \n",
       "...         ...       ...       ...       ...  ...       ...           ...   \n",
       "12205      35.5    3757.0       3.0       2.0  1.0     972.0        149.00   \n",
       "12206       6.8    3016.0       3.0       1.0  0.0     179.0        115.00   \n",
       "12207       6.8    3016.0       1.0       1.0  1.0       0.0         35.64   \n",
       "12209       4.6    3181.0       2.0       1.0  1.0       0.0         61.60   \n",
       "12212       6.3    3013.0       6.0       3.0  2.0    1087.0        388.50   \n",
       "\n",
       "       YearBuilt  CouncilArea  Lattitude  Longtitude  Regionname  \\\n",
       "1         1900.0           29  -37.80790   144.99340           2   \n",
       "2         1900.0           29  -37.80930   144.99440           2   \n",
       "4         2014.0           29  -37.80720   144.99410           2   \n",
       "6         1910.0           29  -37.80240   144.99930           2   \n",
       "7         1890.0           29  -37.80600   144.99540           2   \n",
       "...          ...          ...        ...         ...         ...   \n",
       "12205     1996.0           27  -37.51232   145.13282           3   \n",
       "12206     1890.0           10  -37.86558   144.90474           6   \n",
       "12207     1967.0           10  -37.85588   144.89936           6   \n",
       "12209     2012.0           25  -37.85581   144.99025           5   \n",
       "12212     1920.0           16  -37.81038   144.89389           6   \n",
       "\n",
       "       Propertycount  \n",
       "1             4019.0  \n",
       "2             4019.0  \n",
       "4             4019.0  \n",
       "6             4019.0  \n",
       "7             4019.0  \n",
       "...              ...  \n",
       "12205         2170.0  \n",
       "12206         6380.0  \n",
       "12207         6380.0  \n",
       "12209         4380.0  \n",
       "12212         6543.0  \n",
       "\n",
       "[6196 rows x 21 columns]"
      ]
     },
     "execution_count": 29,
     "metadata": {},
     "output_type": "execute_result"
    }
   ],
   "source": [
    "label_encoder = LabelEncoder()\n",
    "for col in mhs.select_dtypes(include='object').columns:\n",
    "    mhs[col] = label_encoder.fit_transform(mhs[col])\n",
    "\n",
    "mhs"
   ]
  },
  {
   "cell_type": "markdown",
   "id": "690f3660-fddc-495b-9419-39eadd04e5c1",
   "metadata": {},
   "source": [
    "#### Spliting data into features(\"all columns expect 'Price' column\") and target ('Price')"
   ]
  },
  {
   "cell_type": "code",
   "execution_count": 30,
   "id": "9d010dc4-3db2-45fe-9b1d-29432b076f9a",
   "metadata": {
    "tags": []
   },
   "outputs": [],
   "source": [
    "X = mhs.drop(columns=['Price'])\n",
    "y = mhs['Price']"
   ]
  },
  {
   "cell_type": "markdown",
   "id": "4b85be23-b06f-4736-bc30-76c5091f524d",
   "metadata": {},
   "source": [
    "#### Split the data into training and testing sets(80,20)"
   ]
  },
  {
   "cell_type": "code",
   "execution_count": 31,
   "id": "d388600d-dfb9-411d-b6da-e1001aa8b9a9",
   "metadata": {
    "tags": []
   },
   "outputs": [
    {
     "name": "stdout",
     "output_type": "stream",
     "text": [
      "Training set:\n",
      "X_train shape: (4956, 20)\n",
      "Y_train shape: (4956,)\n",
      "\n",
      "Testing set:\n",
      "X_test shape: (1240, 20)\n",
      "Y_test shape: (1240,)\n"
     ]
    }
   ],
   "source": [
    "X_train, X_test, Y_train, Y_test = train_test_split(X, y, test_size=0.2, random_state=657)\n",
    "print(\"Training set:\")\n",
    "print(\"X_train shape:\", X_train.shape)\n",
    "print(\"Y_train shape:\", Y_train.shape)\n",
    "\n",
    "\n",
    "print(\"\\nTesting set:\")\n",
    "print(\"X_test shape:\", X_test.shape)\n",
    "print(\"Y_test shape:\", Y_test.shape)"
   ]
  },
  {
   "cell_type": "markdown",
   "id": "0595330c-52ff-4947-b806-d66492afe0c2",
   "metadata": {},
   "source": [
    "# "
   ]
  },
  {
   "cell_type": "markdown",
   "id": "169bfc2b-6f85-40eb-b6b5-556890046058",
   "metadata": {},
   "source": [
    "#### 1. Correlation-based feature selection"
   ]
  },
  {
   "cell_type": "markdown",
   "id": "5376b72c-65eb-4677-a1b8-c76af5d42817",
   "metadata": {},
   "source": [
    "#### Correlation heatmap"
   ]
  },
  {
   "cell_type": "code",
   "execution_count": 32,
   "id": "2ce38124-7443-4971-8f81-79483749a153",
   "metadata": {
    "tags": []
   },
   "outputs": [
    {
     "data": {
      "image/png": "[encoded data removed]",
      "text/plain": [
       "<Figure size 3000x2000 with 2 Axes>"
      ]
     },
     "metadata": {},
     "output_type": "display_data"
    }
   ],
   "source": [
    "left_traingle = np.triu(mhs.corr())\n",
    "plt.figure(figsize=(30, 20))\n",
    "sns.heatmap(mhs.corr(), vmin=-1, vmax=1, annot=True, square=True, fmt='0.3f', \n",
    "            annot_kws={'size':10}, cmap=\"Greys\", mask=left_traingle)\n",
    "plt.show()"
   ]
  },
  {
   "cell_type": "code",
   "execution_count": 33,
   "id": "19446704-5358-4184-a0be-285d5c8193f2",
   "metadata": {
    "tags": []
   },
   "outputs": [
    {
     "name": "stdout",
     "output_type": "stream",
     "text": [
      "Correlation-based selected features: \n",
      "\n",
      "\n",
      "Selected Features :  Index(['Rooms', 'BuildingArea', 'Bedroom2', 'Bathroom', 'Type', 'YearBuilt',\n",
      "       'Car', 'Lattitude', 'Longtitude', 'Distance'],\n",
      "      dtype='object')\n"
     ]
    }
   ],
   "source": [
    "correlation_matrix = mhs.corr()\n",
    "correlation_features = abs(correlation_matrix['Price']).sort_values(ascending=False).index\n",
    "correlation_features = correlation_features[1:11] \n",
    "print(\"Correlation-based selected features:\", '\\n')\n",
    "print(\"\\nSelected Features : \", correlation_features)\n"
   ]
  },
  {
   "cell_type": "code",
   "execution_count": 34,
   "id": "80d1ad9d-f866-4a67-9ba5-0ce1ae53916f",
   "metadata": {
    "tags": []
   },
   "outputs": [
    {
     "name": "stdout",
     "output_type": "stream",
     "text": [
      "[0.5335053562308817, 0.530573780230247, 0.5145614903495774, 0.5039224716758195, -0.43626165330550015, -0.3046325343218133, 0.2615067274723961, -0.2135739108481014, 0.21175974068006778, -0.14886684630931982]\n"
     ]
    }
   ],
   "source": [
    "correlation_scores = [correlation_matrix.loc['Price', feature] for feature in correlation_features]\n",
    "print(correlation_scores)"
   ]
  },
  {
   "cell_type": "code",
   "execution_count": 35,
   "id": "224b217e-7f0c-4150-a384-7b9ea50536a5",
   "metadata": {
    "tags": []
   },
   "outputs": [
    {
     "data": {
      "image/png": "[encoded data removed]",
      "text/plain": [
       "<Figure size 1000x600 with 1 Axes>"
      ]
     },
     "metadata": {},
     "output_type": "display_data"
    }
   ],
   "source": [
    "plt.figure(figsize=(10, 6))\n",
    "sns.barplot(x=correlation_scores, y=correlation_features)\n",
    "plt.xlabel('Correlation Score')\n",
    "plt.title('Correlation-based Selected Features')\n",
    "plt.gca().invert_yaxis()  # Invert y-axis to display the most important features at the top\n",
    "plt.show()"
   ]
  },
  {
   "cell_type": "markdown",
   "id": "33c7a4aa-233c-4c6f-8ace-6b1a1070ceff",
   "metadata": {},
   "source": [
    "# "
   ]
  },
  {
   "cell_type": "markdown",
   "id": "037120e4-a468-4475-9fd1-2c18f28b8351",
   "metadata": {},
   "source": [
    "#### 2. Chi-Square feature selection"
   ]
  },
  {
   "cell_type": "code",
   "execution_count": 36,
   "id": "b9898549-6d8c-4ab3-bd09-606a6920978d",
   "metadata": {
    "tags": []
   },
   "outputs": [
    {
     "name": "stdout",
     "output_type": "stream",
     "text": [
      "Features selection using Chi-Square \n",
      "\n",
      "\n",
      "Selected Features :  ['Suburb', 'Address', 'Rooms', 'Type', 'Method', 'SellerG', 'Date', 'Bathroom', 'CouncilArea', 'Regionname']\n"
     ]
    }
   ],
   "source": [
    "scaler = MinMaxScaler()\n",
    "X_train_scaled = scaler.fit_transform(X_train)\n",
    "\n",
    "chi_square_selector = SelectKBest(score_func=chi2, k=10)\n",
    "chi_square_selector.fit(X_train_scaled, Y_train)\n",
    "chi_square_support = chi_square_selector.get_support()\n",
    "chi_square_feature = X_train.loc[:, chi_square_support].columns.tolist()\n",
    "\n",
    "print(\"Features selection using Chi-Square\", '\\n')\n",
    "print(\"\\nSelected Features : \", chi_square_feature)"
   ]
  },
  {
   "cell_type": "code",
   "execution_count": 37,
   "id": "6ed66f57-c936-47a6-964c-1c7d7886a437",
   "metadata": {
    "tags": []
   },
   "outputs": [
    {
     "data": {
      "image/png": "[encoded data removed]",
      "text/plain": [
       "<Figure size 1300x700 with 1 Axes>"
      ]
     },
     "metadata": {},
     "output_type": "display_data"
    }
   ],
   "source": [
    "scores = chi_square_selector.scores_\n",
    "feature_names = X_train.columns\n",
    "\n",
    "plt.figure(figsize=(13, 7))\n",
    "sns.barplot(x=scores, y=feature_names)\n",
    "plt.xlabel('Chi-Square Score')\n",
    "plt.ylabel('Feature')\n",
    "plt.title('Chi-Square Feature Selection Scores')\n",
    "plt.show()"
   ]
  },
  {
   "cell_type": "markdown",
   "id": "36372be0-0dc4-4e9a-b656-8374bcd5d4f0",
   "metadata": {},
   "source": [
    "# "
   ]
  },
  {
   "cell_type": "markdown",
   "id": "a0b594e1-02f8-4a21-9192-4405bb4e721e",
   "metadata": {},
   "source": [
    "#### 3. Mutual Information feature selection"
   ]
  },
  {
   "cell_type": "code",
   "execution_count": 38,
   "id": "d9e5d424-d16e-4f41-8e6a-11ef7e677305",
   "metadata": {
    "tags": []
   },
   "outputs": [
    {
     "name": "stdout",
     "output_type": "stream",
     "text": [
      " Features selection using mutual Information  : \n",
      "\n",
      "\n",
      "Selected Features :  ['Rooms', 'Type', 'Method', 'Bedroom2', 'Bathroom', 'Car', 'Landsize', 'BuildingArea', 'YearBuilt', 'Regionname']\n"
     ]
    }
   ],
   "source": [
    "mutual_selector = SelectKBest(score_func=mutual_info_classif, k=10)\n",
    "mutual_selector.fit(X_train, Y_train)\n",
    "mutual_support = mutual_selector.get_support()\n",
    "mutual_feature = X_train.loc[:, mutual_support].columns.tolist()\n",
    "\n",
    "print(\" Features selection using mutual Information  :\", '\\n')\n",
    "print(\"\\nSelected Features : \", mutual_feature)"
   ]
  },
  {
   "cell_type": "code",
   "execution_count": 39,
   "id": "b4303e4d-27de-48c9-896c-3635a97cb1bd",
   "metadata": {
    "tags": []
   },
   "outputs": [
    {
     "data": {
      "image/png": "[encoded data removed]",
      "text/plain": [
       "<Figure size 1300x700 with 1 Axes>"
      ]
     },
     "metadata": {},
     "output_type": "display_data"
    }
   ],
   "source": [
    "mutual_scores = mutual_selector.scores_\n",
    "\n",
    "plt.figure(figsize=(13, 7))\n",
    "sns.barplot(x=mutual_scores, y=feature_names)\n",
    "plt.xlabel('Mutual Information Score')\n",
    "plt.ylabel('Frequency')\n",
    "plt.title('Barplot of Mutual Information Scores')\n",
    "plt.show()"
   ]
  },
  {
   "cell_type": "markdown",
   "id": "25e91996-e1a9-4fd4-baad-0218e41ce05f",
   "metadata": {},
   "source": [
    "# "
   ]
  },
  {
   "cell_type": "markdown",
   "id": "bd61044f-dfc4-4c42-92b3-026ee23c843b",
   "metadata": {},
   "source": [
    "#### 4. Random Forest feature importance"
   ]
  },
  {
   "cell_type": "code",
   "execution_count": 40,
   "id": "b1ced37e",
   "metadata": {},
   "outputs": [
    {
     "name": "stdout",
     "output_type": "stream",
     "text": [
      "Random Forest selected features: \n",
      "\n",
      "\n",
      "Selected Features :  Index(['BuildingArea', 'Distance', 'YearBuilt', 'Lattitude', 'Postcode',\n",
      "       'Landsize', 'Longtitude', 'Bathroom', 'Address', 'Type'],\n",
      "      dtype='object')\n"
     ]
    }
   ],
   "source": [
    "random_forest_selector = RandomForestRegressor(n_estimators=100, random_state=42)\n",
    "random_forest_selector.fit(X_train, Y_train)\n",
    "random_forest_feature_importances = pd.Series(random_forest_selector.feature_importances_, index=X_train.columns).sort_values(ascending=False)\n",
    "random_forest_features = random_forest_feature_importances.index[:10]\n",
    "\n",
    "print(\"Random Forest selected features:\", '\\n')\n",
    "print(\"\\nSelected Features : \", random_forest_features)\n"
   ]
  },
  {
   "cell_type": "code",
   "execution_count": 41,
   "id": "7efc570e-725b-40b7-a138-40ae561b51a2",
   "metadata": {},
   "outputs": [
    {
     "data": {
      "image/png": "[encoded data removed]",
      "text/plain": [
       "<Figure size 1300x700 with 1 Axes>"
      ]
     },
     "metadata": {},
     "output_type": "display_data"
    }
   ],
   "source": [
    "importances = random_forest_selector.feature_importances_\n",
    "\n",
    "feature_names = X_train.columns\n",
    "\n",
    "# Sort feature importances in descending order\n",
    "indices = importances.argsort()[::-1]\n",
    "\n",
    "plt.figure(figsize=(13, 7))\n",
    "sns.barplot(y=[feature_names[i] for i in indices], x=importances[indices])\n",
    "plt.xticks(rotation=90)\n",
    "plt.xlabel('Feature')\n",
    "plt.ylabel('Feature Importance')\n",
    "plt.title('Random Forest Feature Importance')\n",
    "plt.tight_layout()\n",
    "plt.show()"
   ]
  },
  {
   "cell_type": "markdown",
   "id": "348b908a-7f1e-4f3e-b922-c6d83e7ec347",
   "metadata": {},
   "source": [
    "# "
   ]
  },
  {
   "cell_type": "markdown",
   "id": "6db532fd-1bf2-457d-a74b-47ac8da8134d",
   "metadata": {},
   "source": [
    "#### Storing selected important feature in dataframe obtained from different feature selection method."
   ]
  },
  {
   "cell_type": "code",
   "execution_count": 42,
   "id": "669b8a02-d8c0-4287-af16-b554d50a0e8e",
   "metadata": {
    "tags": []
   },
   "outputs": [
    {
     "data": {
      "text/html": [
       "<div>\n",
       "<style scoped>\n",
       "    .dataframe tbody tr th:only-of-type {\n",
       "        vertical-align: middle;\n",
       "    }\n",
       "\n",
       "    .dataframe tbody tr th {\n",
       "        vertical-align: top;\n",
       "    }\n",
       "\n",
       "    .dataframe thead th {\n",
       "        text-align: right;\n",
       "    }\n",
       "</style>\n",
       "<table border=\"1\" class=\"dataframe\">\n",
       "  <thead>\n",
       "    <tr style=\"text-align: right;\">\n",
       "      <th></th>\n",
       "      <th>Feature</th>\n",
       "      <th>Correlation</th>\n",
       "      <th>Chi-Square</th>\n",
       "      <th>Mutual Information</th>\n",
       "      <th>Random Forest</th>\n",
       "    </tr>\n",
       "  </thead>\n",
       "  <tbody>\n",
       "    <tr>\n",
       "      <th>0</th>\n",
       "      <td>Feature 1</td>\n",
       "      <td>Rooms</td>\n",
       "      <td>Suburb</td>\n",
       "      <td>Rooms</td>\n",
       "      <td>BuildingArea</td>\n",
       "    </tr>\n",
       "    <tr>\n",
       "      <th>1</th>\n",
       "      <td>Feature 2</td>\n",
       "      <td>BuildingArea</td>\n",
       "      <td>Address</td>\n",
       "      <td>Type</td>\n",
       "      <td>Distance</td>\n",
       "    </tr>\n",
       "    <tr>\n",
       "      <th>2</th>\n",
       "      <td>Feature 3</td>\n",
       "      <td>Bedroom2</td>\n",
       "      <td>Rooms</td>\n",
       "      <td>Method</td>\n",
       "      <td>YearBuilt</td>\n",
       "    </tr>\n",
       "    <tr>\n",
       "      <th>3</th>\n",
       "      <td>Feature 4</td>\n",
       "      <td>Bathroom</td>\n",
       "      <td>Type</td>\n",
       "      <td>Bedroom2</td>\n",
       "      <td>Lattitude</td>\n",
       "    </tr>\n",
       "    <tr>\n",
       "      <th>4</th>\n",
       "      <td>Feature 5</td>\n",
       "      <td>Type</td>\n",
       "      <td>Method</td>\n",
       "      <td>Bathroom</td>\n",
       "      <td>Postcode</td>\n",
       "    </tr>\n",
       "    <tr>\n",
       "      <th>5</th>\n",
       "      <td>Feature 6</td>\n",
       "      <td>YearBuilt</td>\n",
       "      <td>SellerG</td>\n",
       "      <td>Car</td>\n",
       "      <td>Landsize</td>\n",
       "    </tr>\n",
       "    <tr>\n",
       "      <th>6</th>\n",
       "      <td>Feature 7</td>\n",
       "      <td>Car</td>\n",
       "      <td>Date</td>\n",
       "      <td>Landsize</td>\n",
       "      <td>Longtitude</td>\n",
       "    </tr>\n",
       "    <tr>\n",
       "      <th>7</th>\n",
       "      <td>Feature 8</td>\n",
       "      <td>Lattitude</td>\n",
       "      <td>Bathroom</td>\n",
       "      <td>BuildingArea</td>\n",
       "      <td>Bathroom</td>\n",
       "    </tr>\n",
       "    <tr>\n",
       "      <th>8</th>\n",
       "      <td>Feature 9</td>\n",
       "      <td>Longtitude</td>\n",
       "      <td>CouncilArea</td>\n",
       "      <td>YearBuilt</td>\n",
       "      <td>Address</td>\n",
       "    </tr>\n",
       "    <tr>\n",
       "      <th>9</th>\n",
       "      <td>Feature 10</td>\n",
       "      <td>Distance</td>\n",
       "      <td>Regionname</td>\n",
       "      <td>Regionname</td>\n",
       "      <td>Type</td>\n",
       "    </tr>\n",
       "  </tbody>\n",
       "</table>\n",
       "</div>"
      ],
      "text/plain": [
       "      Feature   Correlation   Chi-Square Mutual Information Random Forest\n",
       "0   Feature 1         Rooms       Suburb              Rooms  BuildingArea\n",
       "1   Feature 2  BuildingArea      Address               Type      Distance\n",
       "2   Feature 3      Bedroom2        Rooms             Method     YearBuilt\n",
       "3   Feature 4      Bathroom         Type           Bedroom2     Lattitude\n",
       "4   Feature 5          Type       Method           Bathroom      Postcode\n",
       "5   Feature 6     YearBuilt      SellerG                Car      Landsize\n",
       "6   Feature 7           Car         Date           Landsize    Longtitude\n",
       "7   Feature 8     Lattitude     Bathroom       BuildingArea      Bathroom\n",
       "8   Feature 9    Longtitude  CouncilArea          YearBuilt       Address\n",
       "9  Feature 10      Distance   Regionname         Regionname          Type"
      ]
     },
     "execution_count": 42,
     "metadata": {},
     "output_type": "execute_result"
    }
   ],
   "source": [
    "all_feature_importance = pd.DataFrame({\n",
    "    'Feature': ['Feature 1', 'Feature 2', 'Feature 3', 'Feature 4', 'Feature 5', 'Feature 6', 'Feature 7', 'Feature 8', 'Feature 9', 'Feature 10'],\n",
    "    'Correlation': correlation_features[:10],\n",
    "    'Chi-Square': chi_square_feature[:10],  \n",
    "    'Mutual Information': mutual_feature[:10],  \n",
    "    'Random Forest': random_forest_features[:10]  \n",
    "})\n",
    "\n",
    "all_feature_importance\n"
   ]
  },
  {
   "cell_type": "code",
   "execution_count": 43,
   "id": "09e6b1da-78fd-49b2-8535-880635a02cc2",
   "metadata": {
    "tags": []
   },
   "outputs": [
    {
     "data": {
      "text/html": [
       "<div>\n",
       "<style scoped>\n",
       "    .dataframe tbody tr th:only-of-type {\n",
       "        vertical-align: middle;\n",
       "    }\n",
       "\n",
       "    .dataframe tbody tr th {\n",
       "        vertical-align: top;\n",
       "    }\n",
       "\n",
       "    .dataframe thead th {\n",
       "        text-align: right;\n",
       "    }\n",
       "</style>\n",
       "<table border=\"1\" class=\"dataframe\">\n",
       "  <thead>\n",
       "    <tr style=\"text-align: right;\">\n",
       "      <th></th>\n",
       "      <th>Feature</th>\n",
       "      <th>Correlation</th>\n",
       "      <th>Chi-Square</th>\n",
       "      <th>Mutual Information</th>\n",
       "      <th>Random Forest</th>\n",
       "    </tr>\n",
       "  </thead>\n",
       "  <tbody>\n",
       "    <tr>\n",
       "      <th>count</th>\n",
       "      <td>10</td>\n",
       "      <td>10</td>\n",
       "      <td>10</td>\n",
       "      <td>10</td>\n",
       "      <td>10</td>\n",
       "    </tr>\n",
       "    <tr>\n",
       "      <th>unique</th>\n",
       "      <td>10</td>\n",
       "      <td>10</td>\n",
       "      <td>10</td>\n",
       "      <td>10</td>\n",
       "      <td>10</td>\n",
       "    </tr>\n",
       "    <tr>\n",
       "      <th>top</th>\n",
       "      <td>Feature 1</td>\n",
       "      <td>Rooms</td>\n",
       "      <td>Suburb</td>\n",
       "      <td>Rooms</td>\n",
       "      <td>BuildingArea</td>\n",
       "    </tr>\n",
       "    <tr>\n",
       "      <th>freq</th>\n",
       "      <td>1</td>\n",
       "      <td>1</td>\n",
       "      <td>1</td>\n",
       "      <td>1</td>\n",
       "      <td>1</td>\n",
       "    </tr>\n",
       "  </tbody>\n",
       "</table>\n",
       "</div>"
      ],
      "text/plain": [
       "          Feature Correlation Chi-Square Mutual Information Random Forest\n",
       "count          10          10         10                 10            10\n",
       "unique         10          10         10                 10            10\n",
       "top     Feature 1       Rooms     Suburb              Rooms  BuildingArea\n",
       "freq            1           1          1                  1             1"
      ]
     },
     "execution_count": 43,
     "metadata": {},
     "output_type": "execute_result"
    }
   ],
   "source": [
    "all_feature_importance.describe()"
   ]
  },
  {
   "cell_type": "markdown",
   "id": "687ca5b0-e812-4397-929a-754fd079fb01",
   "metadata": {},
   "source": [
    "Here we have performed the 4 different types of feature importance methods :\n",
    "\n",
    "∗ Correlation\n",
    "\n",
    "∗ Chi-Square\n",
    "\n",
    "∗ Mutual-Information\n",
    "\n",
    "∗ Random Forest feature importance"
   ]
  },
  {
   "cell_type": "markdown",
   "id": "43afd2c4-7440-48bf-9d54-19bcdc90dd56",
   "metadata": {},
   "source": [
    "The feature selection strategies used on the Melbourne housing dataset provide insights into the value of various parameters and their correlations with the target variable, \"Price\".\n",
    "\n",
    "Correlation:\n",
    "Correlation analysis identifies linear correlations between characteristics and the target variable. Features with high positive or negative correlations are deemed significant.\n",
    "Correlation-wise, the greatest features are those with the highest positive correlation values with the goal variable \"Price\".\n",
    "The weakest features have low correlation coefficients near 0.\n",
    "\n",
    "\n",
    "Chi-Square:\n",
    "Chi-square tests are normally employed for categorical target variables, but \"Price\" in our dataset is continuous. Hence, chi-square isn't immediately applicable here.\n",
    "\n",
    "\n",
    "Mutual Information:\n",
    "Mutual information describes both linear and nonlinear interactions between characteristics and the goal variable.\n",
    "Features that are high mutual information scores are regarded crucial since they provide additional information about the target variable.\n",
    "The worst features have low mutual information scores near zero.\n",
    "\n",
    "\n",
    "Random Forest Feature Importance:\n",
    "Random Forest feature importance assesses the reduction in impurity or improvement in accuracy when a feature is utilized to separate the data.\n",
    "Features with high significance ratings are considered relevant in predicting the target variable.\n",
    "Low importance ratings are associated with the most negative traits.\n",
    "Comparing these strategies, we may draw conclusions about the best and worst feature selection techniques for the Melbourne housing dataset:\n",
    "\n",
    "\n",
    "Best Feature Selection Technique:\n",
    "Based on the nature of the problem and the dataset characteristics, the best feature selection strategy is likely to be Random Forest or Mutual \n",
    "Information.\n",
    "\n",
    "\n",
    "Feature significance.\n",
    "Mutual Information successfully captures both linear and nonlinear interactions, providing a comprehensive perspective of feature relevance.\n",
    "Random Forest Feature Importance provides a reliable way for identifying essential features, particularly in complicated datasets with non-linear correlations.\n",
    "\n",
    "\n",
    "Worst Feature Selection Technique:\n",
    "Chi-Square is the poorest feature selection strategy in this scenario since it is incompatible with continuous target variables such as \"Price\".\n",
    "However, if Chi-Square were used, its effectiveness may be limited due to its emphasis on categorical data and independence assumptions.\n",
    "Ultimately, the optimum feature selection technique is determined by the dataset's properties, the correlations between features and the target variable, and the problem's specific requirements. In this scenario, given the nature of Melbourne housing dataset.Mutual Information or Random Forest Feature Importance are more likely to find key factors for predicting house values.\n"
   ]
  }
 ],
 "metadata": {
  "kernelspec": {
   "display_name": "Python 3 (ipykernel)",
   "language": "python",
   "name": "python3"
  },
  "language_info": {
   "codemirror_mode": {
    "name": "ipython",
    "version": 3
   },
   "file_extension": ".py",
   "mimetype": "text/x-python",
   "name": "python",
   "nbconvert_exporter": "python",
   "pygments_lexer": "ipython3",
   "version": "3.11.5"
  }
 },
 "nbformat": 4,
 "nbformat_minor": 5
}
